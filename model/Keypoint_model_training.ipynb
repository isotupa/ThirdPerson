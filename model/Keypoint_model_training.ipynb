{
 "cells": [
  {
   "cell_type": "code",
   "execution_count": 33,
   "metadata": {
    "id": "igMyGnjE9hEp"
   },
   "outputs": [],
   "source": [
    "import csv\n",
    "\n",
    "import numpy as np\n",
    "import pandas as pd\n",
    "import tensorflow as tf\n",
    "from sklearn.model_selection import train_test_split\n",
    "\n",
    "RANDOM_SEED = 42"
   ]
  },
  {
   "cell_type": "markdown",
   "metadata": {
    "id": "t2HDvhIu9hEr"
   },
   "source": [
    "# Specify each path"
   ]
  },
  {
   "cell_type": "code",
   "execution_count": 34,
   "metadata": {
    "id": "9NvZP2Zn9hEy"
   },
   "outputs": [],
   "source": [
    "# Specify data paths\n",
    "dataset = 'model/keypoint_classifier/keypoint.csv'\n",
    "model_save_path = 'model/keypoint_classifier/keypoint_classifier.hdf5'\n",
    "tflite_save_path = 'model/keypoint_classifier/keypoint_classifier.tflite'"
   ]
  },
  {
   "cell_type": "markdown",
   "metadata": {
    "id": "s5oMH7x19hEz"
   },
   "source": [
    "# Set number of classes"
   ]
  },
  {
   "cell_type": "code",
   "execution_count": 35,
   "metadata": {
    "id": "du4kodXL9hEz"
   },
   "outputs": [],
   "source": [
    "# Change training classes if necessary\n",
    "NUM_CLASSES = 9"
   ]
  },
  {
   "cell_type": "markdown",
   "metadata": {
    "id": "XjnL0uso9hEz"
   },
   "source": [
    "# Dataset reading"
   ]
  },
  {
   "cell_type": "code",
   "execution_count": 36,
   "metadata": {
    "id": "QT5ZqtEz9hE0"
   },
   "outputs": [],
   "source": [
    "X_dataset = np.loadtxt(dataset, delimiter=',', dtype='float32', usecols=list(range(1, (21 * 2) + 1)))"
   ]
  },
  {
   "cell_type": "code",
   "execution_count": 37,
   "metadata": {
    "id": "QmoKFsp49hE0"
   },
   "outputs": [],
   "source": [
    "y_dataset = np.loadtxt(dataset, delimiter=',', dtype='int32', usecols=(0))"
   ]
  },
  {
   "cell_type": "code",
   "execution_count": 38,
   "metadata": {
    "id": "xQU7JTZ_9hE0"
   },
   "outputs": [],
   "source": [
    "X_train, X_test, y_train, y_test = train_test_split(X_dataset, y_dataset, train_size=0.75, random_state=RANDOM_SEED)"
   ]
  },
  {
   "cell_type": "code",
   "execution_count": 39,
   "metadata": {
    "colab": {
     "base_uri": "https://localhost:8080/",
     "height": 279
    },
    "id": "xElG5FoPDQO9",
    "outputId": "2ef372ed-62e3-49c1-ad36-a5b5dc76701a"
   },
   "outputs": [
    {
     "name": "stdout",
     "output_type": "stream",
     "text": [
      "(array([0, 1, 2, 3, 4, 5, 6, 7, 8], dtype=int32), array([1595, 1663, 1510,  672,  164,  257,  139,  190,   75]))\n"
     ]
    },
    {
     "data": {
      "image/png": "[encoded data removed]",
      "text/plain": [
       "<Figure size 640x480 with 1 Axes>"
      ]
     },
     "metadata": {},
     "output_type": "display_data"
    }
   ],
   "source": [
    "# Classes count\n",
    "counts = np.unique(y_dataset, return_counts=True)\n",
    "df = pd.DataFrame(counts)\n",
    "df.T.plot(kind=\"bar\", stacked=True)\n",
    "print(counts)"
   ]
  },
  {
   "cell_type": "markdown",
   "metadata": {
    "id": "mxK_lETT9hE0"
   },
   "source": [
    "# Model building"
   ]
  },
  {
   "cell_type": "code",
   "execution_count": 40,
   "metadata": {
    "id": "vHBmUf1t9hE1"
   },
   "outputs": [],
   "source": [
    "model = tf.keras.models.Sequential([\n",
    "    tf.keras.layers.Input((21 * 2, )),\n",
    "    tf.keras.layers.Dropout(0.0),\n",
    "    tf.keras.layers.Dense(32, activation='relu'),\n",
    "    tf.keras.layers.Dropout(0.0),\n",
    "    tf.keras.layers.Dense(32, activation='relu'),\n",
    "    tf.keras.layers.Dropout(0.0),\n",
    "    tf.keras.layers.Dense(16, activation='relu'),\n",
    "    tf.keras.layers.Dense(NUM_CLASSES, activation='softmax')\n",
    "])"
   ]
  },
  {
   "cell_type": "code",
   "execution_count": 41,
   "metadata": {
    "colab": {
     "base_uri": "https://localhost:8080/"
    },
    "id": "ypqky9tc9hE1",
    "outputId": "c42f3550-ceee-45b8-d40d-d99fd84a2616"
   },
   "outputs": [
    {
     "name": "stdout",
     "output_type": "stream",
     "text": [
      "Model: \"sequential_2\"\n",
      "_________________________________________________________________\n",
      " Layer (type)                Output Shape              Param #   \n",
      "=================================================================\n",
      " dropout_6 (Dropout)         (None, 42)                0         \n",
      "                                                                 \n",
      " dense_8 (Dense)             (None, 32)                1376      \n",
      "                                                                 \n",
      " dropout_7 (Dropout)         (None, 32)                0         \n",
      "                                                                 \n",
      " dense_9 (Dense)             (None, 32)                1056      \n",
      "                                                                 \n",
      " dropout_8 (Dropout)         (None, 32)                0         \n",
      "                                                                 \n",
      " dense_10 (Dense)            (None, 16)                528       \n",
      "                                                                 \n",
      " dense_11 (Dense)            (None, 9)                 153       \n",
      "                                                                 \n",
      "=================================================================\n",
      "Total params: 3113 (12.16 KB)\n",
      "Trainable params: 3113 (12.16 KB)\n",
      "Non-trainable params: 0 (0.00 Byte)\n",
      "_________________________________________________________________\n"
     ]
    }
   ],
   "source": [
    "model.summary()  # tf.keras.utils.plot_model(model, show_shapes=True)"
   ]
  },
  {
   "cell_type": "code",
   "execution_count": 42,
   "metadata": {
    "id": "MbMjOflQ9hE1"
   },
   "outputs": [],
   "source": [
    "# Model checkpoint callback\n",
    "cp_callback = tf.keras.callbacks.ModelCheckpoint(\n",
    "    model_save_path, verbose=1, save_weights_only=False, save_best_only=True)\n",
    "# Callback for early stopping\n",
    "es_callback = tf.keras.callbacks.EarlyStopping(patience=50, verbose=1)"
   ]
  },
  {
   "cell_type": "code",
   "execution_count": 43,
   "metadata": {
    "id": "c3Dac0M_9hE2"
   },
   "outputs": [],
   "source": [
    "# Model compilation\n",
    "model.compile(\n",
    "    optimizer='adam',\n",
    "    loss='sparse_categorical_crossentropy',\n",
    "    metrics=['accuracy']\n",
    ")"
   ]
  },
  {
   "cell_type": "markdown",
   "metadata": {
    "id": "7XI0j1Iu9hE2"
   },
   "source": [
    "# Model training"
   ]
  },
  {
   "cell_type": "code",
   "execution_count": 44,
   "metadata": {
    "id": "WirBl-JE9hE3",
    "scrolled": true
   },
   "outputs": [
    {
     "name": "stdout",
     "output_type": "stream",
     "text": [
      "Epoch 1/1000\n",
      "58/74 [======================>.......] - ETA: 0s - loss: 1.9344 - accuracy: 0.3303\n",
      "Epoch 1: val_loss improved from inf to 1.43504, saving model to model/keypoint_classifier/keypoint_classifier.hdf5\n",
      "74/74 [==============================] - 2s 6ms/step - loss: 1.8560 - accuracy: 0.3604 - val_loss: 1.4350 - val_accuracy: 0.5405\n",
      "Epoch 2/1000\n",
      "48/74 [==================>...........] - ETA: 0s - loss: 1.2397 - accuracy: 0.5859"
     ]
    },
    {
     "name": "stderr",
     "output_type": "stream",
     "text": [
      "/usr/local/lib/python3.11/site-packages/keras/src/engine/training.py:3079: UserWarning: You are saving your model as an HDF5 file via `model.save()`. This file format is considered legacy. We recommend using instead the native Keras format, e.g. `model.save('my_model.keras')`.\n",
      "  saving_api.save_model(\n"
     ]
    },
    {
     "name": "stdout",
     "output_type": "stream",
     "text": [
      "\n",
      "Epoch 2: val_loss improved from 1.43504 to 0.91098, saving model to model/keypoint_classifier/keypoint_classifier.hdf5\n",
      "74/74 [==============================] - 0s 3ms/step - loss: 1.1636 - accuracy: 0.6117 - val_loss: 0.9110 - val_accuracy: 0.7071\n",
      "Epoch 3/1000\n",
      "55/74 [=====================>........] - ETA: 0s - loss: 0.8004 - accuracy: 0.7327\n",
      "Epoch 3: val_loss improved from 0.91098 to 0.61853, saving model to model/keypoint_classifier/keypoint_classifier.hdf5\n",
      "74/74 [==============================] - 0s 3ms/step - loss: 0.7588 - accuracy: 0.7554 - val_loss: 0.6185 - val_accuracy: 0.8066\n",
      "Epoch 4/1000\n",
      "53/74 [====================>.........] - ETA: 0s - loss: 0.5240 - accuracy: 0.8629\n",
      "Epoch 4: val_loss improved from 0.61853 to 0.43062, saving model to model/keypoint_classifier/keypoint_classifier.hdf5\n",
      "74/74 [==============================] - 0s 3ms/step - loss: 0.5035 - accuracy: 0.8708 - val_loss: 0.4306 - val_accuracy: 0.9075\n",
      "Epoch 5/1000\n",
      "62/74 [========================>.....] - ETA: 0s - loss: 0.3686 - accuracy: 0.9173\n",
      "Epoch 5: val_loss improved from 0.43062 to 0.32130, saving model to model/keypoint_classifier/keypoint_classifier.hdf5\n",
      "74/74 [==============================] - 0s 3ms/step - loss: 0.3589 - accuracy: 0.9221 - val_loss: 0.3213 - val_accuracy: 0.9311\n",
      "Epoch 6/1000\n",
      "61/74 [=======================>......] - ETA: 0s - loss: 0.2760 - accuracy: 0.9439\n",
      "Epoch 6: val_loss improved from 0.32130 to 0.26164, saving model to model/keypoint_classifier/keypoint_classifier.hdf5\n",
      "74/74 [==============================] - 0s 3ms/step - loss: 0.2715 - accuracy: 0.9434 - val_loss: 0.2616 - val_accuracy: 0.9483\n",
      "Epoch 7/1000\n",
      "52/74 [====================>.........] - ETA: 0s - loss: 0.2277 - accuracy: 0.9549\n",
      "Epoch 7: val_loss improved from 0.26164 to 0.21268, saving model to model/keypoint_classifier/keypoint_classifier.hdf5\n",
      "74/74 [==============================] - 0s 3ms/step - loss: 0.2134 - accuracy: 0.9579 - val_loss: 0.2127 - val_accuracy: 0.9541\n",
      "Epoch 8/1000\n",
      "52/74 [====================>.........] - ETA: 0s - loss: 0.1857 - accuracy: 0.9621\n",
      "Epoch 8: val_loss improved from 0.21268 to 0.17831, saving model to model/keypoint_classifier/keypoint_classifier.hdf5\n",
      "74/74 [==============================] - 0s 3ms/step - loss: 0.1742 - accuracy: 0.9645 - val_loss: 0.1783 - val_accuracy: 0.9604\n",
      "Epoch 9/1000\n",
      "59/74 [======================>.......] - ETA: 0s - loss: 0.1470 - accuracy: 0.9680\n",
      "Epoch 9: val_loss improved from 0.17831 to 0.15201, saving model to model/keypoint_classifier/keypoint_classifier.hdf5\n",
      "74/74 [==============================] - 0s 3ms/step - loss: 0.1445 - accuracy: 0.9683 - val_loss: 0.1520 - val_accuracy: 0.9675\n",
      "Epoch 10/1000\n",
      "60/74 [=======================>......] - ETA: 0s - loss: 0.1225 - accuracy: 0.9740\n",
      "Epoch 10: val_loss improved from 0.15201 to 0.12421, saving model to model/keypoint_classifier/keypoint_classifier.hdf5\n",
      "74/74 [==============================] - 0s 3ms/step - loss: 0.1213 - accuracy: 0.9740 - val_loss: 0.1242 - val_accuracy: 0.9777\n",
      "Epoch 11/1000\n",
      "57/74 [======================>.......] - ETA: 0s - loss: 0.1002 - accuracy: 0.9781\n",
      "Epoch 11: val_loss improved from 0.12421 to 0.10865, saving model to model/keypoint_classifier/keypoint_classifier.hdf5\n",
      "74/74 [==============================] - 0s 3ms/step - loss: 0.1028 - accuracy: 0.9785 - val_loss: 0.1087 - val_accuracy: 0.9821\n",
      "Epoch 12/1000\n",
      "60/74 [=======================>......] - ETA: 0s - loss: 0.0862 - accuracy: 0.9826\n",
      "Epoch 12: val_loss improved from 0.10865 to 0.09852, saving model to model/keypoint_classifier/keypoint_classifier.hdf5\n",
      "74/74 [==============================] - 0s 3ms/step - loss: 0.0857 - accuracy: 0.9838 - val_loss: 0.0985 - val_accuracy: 0.9840\n",
      "Epoch 13/1000\n",
      "57/74 [======================>.......] - ETA: 0s - loss: 0.0756 - accuracy: 0.9860\n",
      "Epoch 13: val_loss improved from 0.09852 to 0.09118, saving model to model/keypoint_classifier/keypoint_classifier.hdf5\n",
      "74/74 [==============================] - 0s 3ms/step - loss: 0.0793 - accuracy: 0.9853 - val_loss: 0.0912 - val_accuracy: 0.9828\n",
      "Epoch 14/1000\n",
      "62/74 [========================>.....] - ETA: 0s - loss: 0.0725 - accuracy: 0.9859\n",
      "Epoch 14: val_loss improved from 0.09118 to 0.08208, saving model to model/keypoint_classifier/keypoint_classifier.hdf5\n",
      "74/74 [==============================] - 0s 3ms/step - loss: 0.0714 - accuracy: 0.9855 - val_loss: 0.0821 - val_accuracy: 0.9860\n",
      "Epoch 15/1000\n",
      "58/74 [======================>.......] - ETA: 0s - loss: 0.0593 - accuracy: 0.9876\n",
      "Epoch 15: val_loss improved from 0.08208 to 0.08031, saving model to model/keypoint_classifier/keypoint_classifier.hdf5\n",
      "74/74 [==============================] - 0s 3ms/step - loss: 0.0629 - accuracy: 0.9866 - val_loss: 0.0803 - val_accuracy: 0.9834\n",
      "Epoch 16/1000\n",
      "57/74 [======================>.......] - ETA: 0s - loss: 0.0576 - accuracy: 0.9879\n",
      "Epoch 16: val_loss improved from 0.08031 to 0.06194, saving model to model/keypoint_classifier/keypoint_classifier.hdf5\n",
      "74/74 [==============================] - 0s 3ms/step - loss: 0.0583 - accuracy: 0.9881 - val_loss: 0.0619 - val_accuracy: 0.9879\n",
      "Epoch 17/1000\n",
      "63/74 [========================>.....] - ETA: 0s - loss: 0.0553 - accuracy: 0.9871\n",
      "Epoch 17: val_loss improved from 0.06194 to 0.06024, saving model to model/keypoint_classifier/keypoint_classifier.hdf5\n",
      "74/74 [==============================] - 0s 3ms/step - loss: 0.0533 - accuracy: 0.9881 - val_loss: 0.0602 - val_accuracy: 0.9872\n",
      "Epoch 18/1000\n",
      "60/74 [=======================>......] - ETA: 0s - loss: 0.0492 - accuracy: 0.9896\n",
      "Epoch 18: val_loss improved from 0.06024 to 0.05973, saving model to model/keypoint_classifier/keypoint_classifier.hdf5\n",
      "74/74 [==============================] - 0s 3ms/step - loss: 0.0491 - accuracy: 0.9904 - val_loss: 0.0597 - val_accuracy: 0.9866\n",
      "Epoch 19/1000\n",
      "62/74 [========================>.....] - ETA: 0s - loss: 0.0412 - accuracy: 0.9919\n",
      "Epoch 19: val_loss improved from 0.05973 to 0.05336, saving model to model/keypoint_classifier/keypoint_classifier.hdf5\n",
      "74/74 [==============================] - 0s 3ms/step - loss: 0.0453 - accuracy: 0.9908 - val_loss: 0.0534 - val_accuracy: 0.9879\n",
      "Epoch 20/1000\n",
      "61/74 [=======================>......] - ETA: 0s - loss: 0.0419 - accuracy: 0.9903\n",
      "Epoch 20: val_loss improved from 0.05336 to 0.05189, saving model to model/keypoint_classifier/keypoint_classifier.hdf5\n",
      "74/74 [==============================] - 0s 3ms/step - loss: 0.0416 - accuracy: 0.9904 - val_loss: 0.0519 - val_accuracy: 0.9885\n",
      "Epoch 21/1000\n",
      "62/74 [========================>.....] - ETA: 0s - loss: 0.0420 - accuracy: 0.9899\n",
      "Epoch 21: val_loss improved from 0.05189 to 0.04589, saving model to model/keypoint_classifier/keypoint_classifier.hdf5\n",
      "74/74 [==============================] - 0s 3ms/step - loss: 0.0412 - accuracy: 0.9906 - val_loss: 0.0459 - val_accuracy: 0.9892\n",
      "Epoch 22/1000\n",
      "60/74 [=======================>......] - ETA: 0s - loss: 0.0380 - accuracy: 0.9901\n",
      "Epoch 22: val_loss did not improve from 0.04589\n",
      "74/74 [==============================] - 0s 2ms/step - loss: 0.0366 - accuracy: 0.9904 - val_loss: 0.0481 - val_accuracy: 0.9892\n",
      "Epoch 23/1000\n",
      "62/74 [========================>.....] - ETA: 0s - loss: 0.0340 - accuracy: 0.9914\n",
      "Epoch 23: val_loss improved from 0.04589 to 0.04153, saving model to model/keypoint_classifier/keypoint_classifier.hdf5\n",
      "74/74 [==============================] - 0s 3ms/step - loss: 0.0336 - accuracy: 0.9913 - val_loss: 0.0415 - val_accuracy: 0.9923\n",
      "Epoch 24/1000\n",
      "61/74 [=======================>......] - ETA: 0s - loss: 0.0316 - accuracy: 0.9939\n",
      "Epoch 24: val_loss improved from 0.04153 to 0.04124, saving model to model/keypoint_classifier/keypoint_classifier.hdf5\n",
      "74/74 [==============================] - 0s 3ms/step - loss: 0.0298 - accuracy: 0.9943 - val_loss: 0.0412 - val_accuracy: 0.9904\n",
      "Epoch 25/1000\n",
      "59/74 [======================>.......] - ETA: 0s - loss: 0.0288 - accuracy: 0.9936\n",
      "Epoch 25: val_loss did not improve from 0.04124\n",
      "74/74 [==============================] - 0s 3ms/step - loss: 0.0288 - accuracy: 0.9934 - val_loss: 0.0426 - val_accuracy: 0.9898\n",
      "Epoch 26/1000\n",
      "53/74 [====================>.........] - ETA: 0s - loss: 0.0273 - accuracy: 0.9941\n",
      "Epoch 26: val_loss improved from 0.04124 to 0.03969, saving model to model/keypoint_classifier/keypoint_classifier.hdf5\n",
      "74/74 [==============================] - 0s 3ms/step - loss: 0.0262 - accuracy: 0.9943 - val_loss: 0.0397 - val_accuracy: 0.9936\n",
      "Epoch 27/1000\n",
      "54/74 [====================>.........] - ETA: 0s - loss: 0.0269 - accuracy: 0.9931\n",
      "Epoch 27: val_loss improved from 0.03969 to 0.03752, saving model to model/keypoint_classifier/keypoint_classifier.hdf5\n",
      "74/74 [==============================] - 0s 3ms/step - loss: 0.0259 - accuracy: 0.9932 - val_loss: 0.0375 - val_accuracy: 0.9943\n",
      "Epoch 28/1000\n",
      "53/74 [====================>.........] - ETA: 0s - loss: 0.0246 - accuracy: 0.9947\n",
      "Epoch 28: val_loss did not improve from 0.03752\n",
      "74/74 [==============================] - 0s 3ms/step - loss: 0.0249 - accuracy: 0.9940 - val_loss: 0.0446 - val_accuracy: 0.9911\n",
      "Epoch 29/1000\n",
      "55/74 [=====================>........] - ETA: 0s - loss: 0.0234 - accuracy: 0.9943\n",
      "Epoch 29: val_loss improved from 0.03752 to 0.03242, saving model to model/keypoint_classifier/keypoint_classifier.hdf5\n",
      "74/74 [==============================] - 0s 3ms/step - loss: 0.0225 - accuracy: 0.9951 - val_loss: 0.0324 - val_accuracy: 0.9936\n",
      "Epoch 30/1000\n",
      "55/74 [=====================>........] - ETA: 0s - loss: 0.0229 - accuracy: 0.9949\n",
      "Epoch 30: val_loss did not improve from 0.03242\n",
      "74/74 [==============================] - 0s 3ms/step - loss: 0.0232 - accuracy: 0.9947 - val_loss: 0.0340 - val_accuracy: 0.9943\n",
      "Epoch 31/1000\n",
      "58/74 [======================>.......] - ETA: 0s - loss: 0.0216 - accuracy: 0.9954\n",
      "Epoch 31: val_loss improved from 0.03242 to 0.03155, saving model to model/keypoint_classifier/keypoint_classifier.hdf5\n",
      "74/74 [==============================] - 0s 3ms/step - loss: 0.0200 - accuracy: 0.9955 - val_loss: 0.0315 - val_accuracy: 0.9923\n",
      "Epoch 32/1000\n",
      "57/74 [======================>.......] - ETA: 0s - loss: 0.0185 - accuracy: 0.9962\n",
      "Epoch 32: val_loss did not improve from 0.03155\n",
      "74/74 [==============================] - 0s 3ms/step - loss: 0.0191 - accuracy: 0.9962 - val_loss: 0.0352 - val_accuracy: 0.9923\n",
      "Epoch 33/1000\n",
      "62/74 [========================>.....] - ETA: 0s - loss: 0.0226 - accuracy: 0.9952\n",
      "Epoch 33: val_loss did not improve from 0.03155\n",
      "74/74 [==============================] - 0s 2ms/step - loss: 0.0221 - accuracy: 0.9953 - val_loss: 0.0352 - val_accuracy: 0.9904\n",
      "Epoch 34/1000\n",
      "57/74 [======================>.......] - ETA: 0s - loss: 0.0165 - accuracy: 0.9964\n",
      "Epoch 34: val_loss improved from 0.03155 to 0.02832, saving model to model/keypoint_classifier/keypoint_classifier.hdf5\n",
      "74/74 [==============================] - 0s 3ms/step - loss: 0.0169 - accuracy: 0.9964 - val_loss: 0.0283 - val_accuracy: 0.9943\n",
      "Epoch 35/1000\n",
      "50/74 [===================>..........] - ETA: 0s - loss: 0.0185 - accuracy: 0.9966\n",
      "Epoch 35: val_loss improved from 0.02832 to 0.02602, saving model to model/keypoint_classifier/keypoint_classifier.hdf5\n",
      "74/74 [==============================] - 0s 3ms/step - loss: 0.0178 - accuracy: 0.9968 - val_loss: 0.0260 - val_accuracy: 0.9949\n",
      "Epoch 36/1000\n",
      "57/74 [======================>.......] - ETA: 0s - loss: 0.0154 - accuracy: 0.9973\n",
      "Epoch 36: val_loss did not improve from 0.02602\n",
      "74/74 [==============================] - 0s 3ms/step - loss: 0.0173 - accuracy: 0.9966 - val_loss: 0.0325 - val_accuracy: 0.9936\n",
      "Epoch 37/1000\n",
      "54/74 [====================>.........] - ETA: 0s - loss: 0.0145 - accuracy: 0.9980\n",
      "Epoch 37: val_loss did not improve from 0.02602\n",
      "74/74 [==============================] - 0s 3ms/step - loss: 0.0151 - accuracy: 0.9972 - val_loss: 0.0308 - val_accuracy: 0.9949\n",
      "Epoch 38/1000\n",
      "51/74 [===================>..........] - ETA: 0s - loss: 0.0148 - accuracy: 0.9963\n",
      "Epoch 38: val_loss did not improve from 0.02602\n",
      "74/74 [==============================] - 0s 3ms/step - loss: 0.0160 - accuracy: 0.9964 - val_loss: 0.0279 - val_accuracy: 0.9943\n",
      "Epoch 39/1000\n",
      "57/74 [======================>.......] - ETA: 0s - loss: 0.0138 - accuracy: 0.9964\n",
      "Epoch 39: val_loss did not improve from 0.02602\n",
      "74/74 [==============================] - 0s 4ms/step - loss: 0.0136 - accuracy: 0.9966 - val_loss: 0.0286 - val_accuracy: 0.9949\n",
      "Epoch 40/1000\n",
      "55/74 [=====================>........] - ETA: 0s - loss: 0.0134 - accuracy: 0.9974\n",
      "Epoch 40: val_loss improved from 0.02602 to 0.02551, saving model to model/keypoint_classifier/keypoint_classifier.hdf5\n",
      "74/74 [==============================] - 0s 3ms/step - loss: 0.0131 - accuracy: 0.9974 - val_loss: 0.0255 - val_accuracy: 0.9936\n",
      "Epoch 41/1000\n",
      "56/74 [=====================>........] - ETA: 0s - loss: 0.0139 - accuracy: 0.9961\n",
      "Epoch 41: val_loss improved from 0.02551 to 0.02375, saving model to model/keypoint_classifier/keypoint_classifier.hdf5\n",
      "74/74 [==============================] - 0s 3ms/step - loss: 0.0127 - accuracy: 0.9968 - val_loss: 0.0237 - val_accuracy: 0.9955\n",
      "Epoch 42/1000\n",
      "57/74 [======================>.......] - ETA: 0s - loss: 0.0134 - accuracy: 0.9973\n",
      "Epoch 42: val_loss did not improve from 0.02375\n",
      "74/74 [==============================] - 0s 3ms/step - loss: 0.0126 - accuracy: 0.9977 - val_loss: 0.0281 - val_accuracy: 0.9936\n",
      "Epoch 43/1000\n",
      "58/74 [======================>.......] - ETA: 0s - loss: 0.0120 - accuracy: 0.9970\n",
      "Epoch 43: val_loss did not improve from 0.02375\n",
      "74/74 [==============================] - 0s 3ms/step - loss: 0.0104 - accuracy: 0.9977 - val_loss: 0.0271 - val_accuracy: 0.9917\n",
      "Epoch 44/1000\n",
      "53/74 [====================>.........] - ETA: 0s - loss: 0.0101 - accuracy: 0.9979\n",
      "Epoch 44: val_loss did not improve from 0.02375\n",
      "74/74 [==============================] - 0s 3ms/step - loss: 0.0103 - accuracy: 0.9974 - val_loss: 0.0310 - val_accuracy: 0.9917\n",
      "Epoch 45/1000\n",
      "60/74 [=======================>......] - ETA: 0s - loss: 0.0086 - accuracy: 0.9987\n",
      "Epoch 45: val_loss did not improve from 0.02375\n",
      "74/74 [==============================] - 0s 3ms/step - loss: 0.0102 - accuracy: 0.9981 - val_loss: 0.0300 - val_accuracy: 0.9943\n",
      "Epoch 46/1000\n",
      "59/74 [======================>.......] - ETA: 0s - loss: 0.0091 - accuracy: 0.9981\n",
      "Epoch 46: val_loss improved from 0.02375 to 0.02264, saving model to model/keypoint_classifier/keypoint_classifier.hdf5\n",
      "74/74 [==============================] - 0s 3ms/step - loss: 0.0102 - accuracy: 0.9974 - val_loss: 0.0226 - val_accuracy: 0.9955\n",
      "Epoch 47/1000\n",
      "70/74 [===========================>..] - ETA: 0s - loss: 0.0108 - accuracy: 0.9975\n",
      "Epoch 47: val_loss did not improve from 0.02264\n",
      "74/74 [==============================] - 0s 3ms/step - loss: 0.0111 - accuracy: 0.9974 - val_loss: 0.0263 - val_accuracy: 0.9930\n",
      "Epoch 48/1000\n",
      "53/74 [====================>.........] - ETA: 0s - loss: 0.0088 - accuracy: 0.9976\n",
      "Epoch 48: val_loss did not improve from 0.02264\n",
      "74/74 [==============================] - 0s 3ms/step - loss: 0.0112 - accuracy: 0.9974 - val_loss: 0.0387 - val_accuracy: 0.9898\n",
      "Epoch 49/1000\n",
      "53/74 [====================>.........] - ETA: 0s - loss: 0.0150 - accuracy: 0.9956\n",
      "Epoch 49: val_loss did not improve from 0.02264\n",
      "74/74 [==============================] - 0s 3ms/step - loss: 0.0129 - accuracy: 0.9964 - val_loss: 0.0246 - val_accuracy: 0.9943\n",
      "Epoch 50/1000\n",
      "66/74 [=========================>....] - ETA: 0s - loss: 0.0096 - accuracy: 0.9972\n",
      "Epoch 50: val_loss improved from 0.02264 to 0.02158, saving model to model/keypoint_classifier/keypoint_classifier.hdf5\n",
      "74/74 [==============================] - 0s 4ms/step - loss: 0.0103 - accuracy: 0.9970 - val_loss: 0.0216 - val_accuracy: 0.9962\n",
      "Epoch 51/1000\n",
      "72/74 [============================>.] - ETA: 0s - loss: 0.0103 - accuracy: 0.9978\n",
      "Epoch 51: val_loss did not improve from 0.02158\n",
      "74/74 [==============================] - 0s 3ms/step - loss: 0.0102 - accuracy: 0.9979 - val_loss: 0.0275 - val_accuracy: 0.9930\n",
      "Epoch 52/1000\n",
      "74/74 [==============================] - ETA: 0s - loss: 0.0097 - accuracy: 0.9972\n",
      "Epoch 52: val_loss did not improve from 0.02158\n",
      "74/74 [==============================] - 0s 3ms/step - loss: 0.0097 - accuracy: 0.9972 - val_loss: 0.0228 - val_accuracy: 0.9949\n",
      "Epoch 53/1000\n",
      "53/74 [====================>.........] - ETA: 0s - loss: 0.0081 - accuracy: 0.9985\n",
      "Epoch 53: val_loss did not improve from 0.02158\n",
      "74/74 [==============================] - 0s 3ms/step - loss: 0.0073 - accuracy: 0.9985 - val_loss: 0.0241 - val_accuracy: 0.9943\n",
      "Epoch 54/1000\n",
      "68/74 [==========================>...] - ETA: 0s - loss: 0.0082 - accuracy: 0.9982\n",
      "Epoch 54: val_loss did not improve from 0.02158\n",
      "74/74 [==============================] - 0s 3ms/step - loss: 0.0079 - accuracy: 0.9983 - val_loss: 0.0229 - val_accuracy: 0.9949\n",
      "Epoch 55/1000\n",
      "52/74 [====================>.........] - ETA: 0s - loss: 0.0068 - accuracy: 0.9985\n",
      "Epoch 55: val_loss did not improve from 0.02158\n",
      "74/74 [==============================] - 0s 3ms/step - loss: 0.0078 - accuracy: 0.9983 - val_loss: 0.0226 - val_accuracy: 0.9943\n",
      "Epoch 56/1000\n",
      "62/74 [========================>.....] - ETA: 0s - loss: 0.0088 - accuracy: 0.9980\n",
      "Epoch 56: val_loss did not improve from 0.02158\n",
      "74/74 [==============================] - 0s 2ms/step - loss: 0.0089 - accuracy: 0.9979 - val_loss: 0.0362 - val_accuracy: 0.9917\n",
      "Epoch 57/1000\n",
      "56/74 [=====================>........] - ETA: 0s - loss: 0.0107 - accuracy: 0.9978\n",
      "Epoch 57: val_loss did not improve from 0.02158\n",
      "74/74 [==============================] - 0s 3ms/step - loss: 0.0096 - accuracy: 0.9981 - val_loss: 0.0303 - val_accuracy: 0.9936\n",
      "Epoch 58/1000\n",
      "55/74 [=====================>........] - ETA: 0s - loss: 0.0075 - accuracy: 0.9980\n",
      "Epoch 58: val_loss did not improve from 0.02158\n",
      "74/74 [==============================] - 0s 3ms/step - loss: 0.0072 - accuracy: 0.9981 - val_loss: 0.0228 - val_accuracy: 0.9949\n",
      "Epoch 59/1000\n",
      "54/74 [====================>.........] - ETA: 0s - loss: 0.0095 - accuracy: 0.9980\n",
      "Epoch 59: val_loss did not improve from 0.02158\n",
      "74/74 [==============================] - 0s 3ms/step - loss: 0.0084 - accuracy: 0.9983 - val_loss: 0.0234 - val_accuracy: 0.9943\n",
      "Epoch 60/1000\n",
      "60/74 [=======================>......] - ETA: 0s - loss: 0.0071 - accuracy: 0.9979\n",
      "Epoch 60: val_loss did not improve from 0.02158\n",
      "74/74 [==============================] - 0s 3ms/step - loss: 0.0073 - accuracy: 0.9981 - val_loss: 0.0271 - val_accuracy: 0.9936\n",
      "Epoch 61/1000\n",
      "54/74 [====================>.........] - ETA: 0s - loss: 0.0080 - accuracy: 0.9983\n",
      "Epoch 61: val_loss improved from 0.02158 to 0.01849, saving model to model/keypoint_classifier/keypoint_classifier.hdf5\n",
      "74/74 [==============================] - 0s 3ms/step - loss: 0.0083 - accuracy: 0.9979 - val_loss: 0.0185 - val_accuracy: 0.9949\n",
      "Epoch 62/1000\n",
      "57/74 [======================>.......] - ETA: 0s - loss: 0.0077 - accuracy: 0.9978\n",
      "Epoch 62: val_loss did not improve from 0.01849\n",
      "74/74 [==============================] - 0s 3ms/step - loss: 0.0071 - accuracy: 0.9979 - val_loss: 0.0189 - val_accuracy: 0.9955\n",
      "Epoch 63/1000\n",
      "56/74 [=====================>........] - ETA: 0s - loss: 0.0054 - accuracy: 0.9989\n",
      "Epoch 63: val_loss did not improve from 0.01849\n",
      "74/74 [==============================] - 0s 3ms/step - loss: 0.0050 - accuracy: 0.9991 - val_loss: 0.0237 - val_accuracy: 0.9930\n",
      "Epoch 64/1000\n",
      "57/74 [======================>.......] - ETA: 0s - loss: 0.0065 - accuracy: 0.9978\n",
      "Epoch 64: val_loss did not improve from 0.01849\n",
      "74/74 [==============================] - 0s 3ms/step - loss: 0.0069 - accuracy: 0.9977 - val_loss: 0.0237 - val_accuracy: 0.9943\n",
      "Epoch 65/1000\n",
      "55/74 [=====================>........] - ETA: 0s - loss: 0.0055 - accuracy: 0.9991\n",
      "Epoch 65: val_loss did not improve from 0.01849\n",
      "74/74 [==============================] - 0s 3ms/step - loss: 0.0058 - accuracy: 0.9987 - val_loss: 0.0248 - val_accuracy: 0.9936\n",
      "Epoch 66/1000\n",
      "53/74 [====================>.........] - ETA: 0s - loss: 0.0057 - accuracy: 0.9985\n",
      "Epoch 66: val_loss did not improve from 0.01849\n",
      "74/74 [==============================] - 0s 3ms/step - loss: 0.0057 - accuracy: 0.9985 - val_loss: 0.0224 - val_accuracy: 0.9943\n",
      "Epoch 67/1000\n",
      "57/74 [======================>.......] - ETA: 0s - loss: 0.0071 - accuracy: 0.9981\n",
      "Epoch 67: val_loss did not improve from 0.01849\n",
      "74/74 [==============================] - 0s 3ms/step - loss: 0.0063 - accuracy: 0.9985 - val_loss: 0.0236 - val_accuracy: 0.9923\n",
      "Epoch 68/1000\n",
      "67/74 [==========================>...] - ETA: 0s - loss: 0.0067 - accuracy: 0.9979\n",
      "Epoch 68: val_loss did not improve from 0.01849\n",
      "74/74 [==============================] - 0s 3ms/step - loss: 0.0064 - accuracy: 0.9981 - val_loss: 0.0286 - val_accuracy: 0.9923\n",
      "Epoch 69/1000\n",
      "57/74 [======================>.......] - ETA: 0s - loss: 0.0056 - accuracy: 0.9984\n",
      "Epoch 69: val_loss improved from 0.01849 to 0.01731, saving model to model/keypoint_classifier/keypoint_classifier.hdf5\n",
      "74/74 [==============================] - 0s 3ms/step - loss: 0.0052 - accuracy: 0.9985 - val_loss: 0.0173 - val_accuracy: 0.9949\n",
      "Epoch 70/1000\n",
      "55/74 [=====================>........] - ETA: 0s - loss: 0.0051 - accuracy: 0.9989\n",
      "Epoch 70: val_loss did not improve from 0.01731\n",
      "74/74 [==============================] - 0s 3ms/step - loss: 0.0050 - accuracy: 0.9987 - val_loss: 0.0192 - val_accuracy: 0.9949\n",
      "Epoch 71/1000\n",
      "50/74 [===================>..........] - ETA: 0s - loss: 0.0034 - accuracy: 0.9991\n",
      "Epoch 71: val_loss did not improve from 0.01731\n",
      "74/74 [==============================] - 0s 3ms/step - loss: 0.0047 - accuracy: 0.9985 - val_loss: 0.0260 - val_accuracy: 0.9923\n",
      "Epoch 72/1000\n",
      "57/74 [======================>.......] - ETA: 0s - loss: 0.0050 - accuracy: 0.9984\n",
      "Epoch 72: val_loss did not improve from 0.01731\n",
      "74/74 [==============================] - 0s 3ms/step - loss: 0.0044 - accuracy: 0.9985 - val_loss: 0.0201 - val_accuracy: 0.9949\n",
      "Epoch 73/1000\n",
      "56/74 [=====================>........] - ETA: 0s - loss: 0.0076 - accuracy: 0.9975  \n",
      "Epoch 73: val_loss did not improve from 0.01731\n",
      "74/74 [==============================] - 0s 3ms/step - loss: 0.0075 - accuracy: 0.9977 - val_loss: 0.0268 - val_accuracy: 0.9936\n",
      "Epoch 74/1000\n",
      "58/74 [======================>.......] - ETA: 0s - loss: 0.0064 - accuracy: 0.9978\n",
      "Epoch 74: val_loss did not improve from 0.01731\n",
      "74/74 [==============================] - 0s 3ms/step - loss: 0.0061 - accuracy: 0.9981 - val_loss: 0.0282 - val_accuracy: 0.9930\n",
      "Epoch 75/1000\n",
      "57/74 [======================>.......] - ETA: 0s - loss: 0.0068 - accuracy: 0.9975  \n",
      "Epoch 75: val_loss did not improve from 0.01731\n",
      "74/74 [==============================] - 0s 3ms/step - loss: 0.0064 - accuracy: 0.9979 - val_loss: 0.0210 - val_accuracy: 0.9936\n",
      "Epoch 76/1000\n",
      "54/74 [====================>.........] - ETA: 0s - loss: 0.0037 - accuracy: 0.9988  \n",
      "Epoch 76: val_loss did not improve from 0.01731\n",
      "74/74 [==============================] - 0s 3ms/step - loss: 0.0038 - accuracy: 0.9987 - val_loss: 0.0221 - val_accuracy: 0.9949\n",
      "Epoch 77/1000\n",
      "59/74 [======================>.......] - ETA: 0s - loss: 0.0112 - accuracy: 0.9974\n",
      "Epoch 77: val_loss did not improve from 0.01731\n",
      "74/74 [==============================] - 0s 3ms/step - loss: 0.0149 - accuracy: 0.9962 - val_loss: 0.0238 - val_accuracy: 0.9949\n",
      "Epoch 78/1000\n",
      "54/74 [====================>.........] - ETA: 0s - loss: 0.0079 - accuracy: 0.9974\n",
      "Epoch 78: val_loss did not improve from 0.01731\n",
      "74/74 [==============================] - 0s 3ms/step - loss: 0.0066 - accuracy: 0.9979 - val_loss: 0.0226 - val_accuracy: 0.9930\n",
      "Epoch 79/1000\n",
      "59/74 [======================>.......] - ETA: 0s - loss: 0.0028 - accuracy: 0.9995\n",
      "Epoch 79: val_loss did not improve from 0.01731\n",
      "74/74 [==============================] - 0s 3ms/step - loss: 0.0027 - accuracy: 0.9996 - val_loss: 0.0208 - val_accuracy: 0.9949\n",
      "Epoch 80/1000\n",
      "57/74 [======================>.......] - ETA: 0s - loss: 0.0118 - accuracy: 0.9975\n",
      "Epoch 80: val_loss did not improve from 0.01731\n",
      "74/74 [==============================] - 0s 3ms/step - loss: 0.0099 - accuracy: 0.9981 - val_loss: 0.0243 - val_accuracy: 0.9936\n",
      "Epoch 81/1000\n",
      "56/74 [=====================>........] - ETA: 0s - loss: 0.0027 - accuracy: 0.9994  \n",
      "Epoch 81: val_loss did not improve from 0.01731\n",
      "74/74 [==============================] - 0s 3ms/step - loss: 0.0028 - accuracy: 0.9994 - val_loss: 0.0194 - val_accuracy: 0.9943\n",
      "Epoch 82/1000\n",
      "71/74 [===========================>..] - ETA: 0s - loss: 0.0025 - accuracy: 0.9996\n",
      "Epoch 82: val_loss did not improve from 0.01731\n",
      "74/74 [==============================] - 0s 3ms/step - loss: 0.0024 - accuracy: 0.9996 - val_loss: 0.0177 - val_accuracy: 0.9955\n",
      "Epoch 83/1000\n",
      "58/74 [======================>.......] - ETA: 0s - loss: 0.0030 - accuracy: 0.9995\n",
      "Epoch 83: val_loss did not improve from 0.01731\n",
      "74/74 [==============================] - 0s 3ms/step - loss: 0.0032 - accuracy: 0.9994 - val_loss: 0.0195 - val_accuracy: 0.9949\n",
      "Epoch 84/1000\n",
      "55/74 [=====================>........] - ETA: 0s - loss: 0.0024 - accuracy: 0.9994  \n",
      "Epoch 84: val_loss did not improve from 0.01731\n",
      "74/74 [==============================] - 0s 3ms/step - loss: 0.0025 - accuracy: 0.9994 - val_loss: 0.0208 - val_accuracy: 0.9936\n",
      "Epoch 85/1000\n",
      "54/74 [====================>.........] - ETA: 0s - loss: 0.0024 - accuracy: 0.9997  \n",
      "Epoch 85: val_loss did not improve from 0.01731\n",
      "74/74 [==============================] - 0s 3ms/step - loss: 0.0029 - accuracy: 0.9994 - val_loss: 0.0274 - val_accuracy: 0.9923\n",
      "Epoch 86/1000\n",
      "54/74 [====================>.........] - ETA: 0s - loss: 0.0025 - accuracy: 0.9994\n",
      "Epoch 86: val_loss did not improve from 0.01731\n",
      "74/74 [==============================] - 0s 3ms/step - loss: 0.0025 - accuracy: 0.9994 - val_loss: 0.0215 - val_accuracy: 0.9949\n",
      "Epoch 87/1000\n",
      "55/74 [=====================>........] - ETA: 0s - loss: 0.0028 - accuracy: 0.9991\n",
      "Epoch 87: val_loss did not improve from 0.01731\n",
      "74/74 [==============================] - 0s 3ms/step - loss: 0.0026 - accuracy: 0.9994 - val_loss: 0.0206 - val_accuracy: 0.9949\n",
      "Epoch 88/1000\n",
      "57/74 [======================>.......] - ETA: 0s - loss: 0.0038 - accuracy: 0.9986  \n",
      "Epoch 88: val_loss did not improve from 0.01731\n",
      "74/74 [==============================] - 0s 3ms/step - loss: 0.0045 - accuracy: 0.9981 - val_loss: 0.0184 - val_accuracy: 0.9923\n",
      "Epoch 89/1000\n",
      "59/74 [======================>.......] - ETA: 0s - loss: 0.0043 - accuracy: 0.9987\n",
      "Epoch 89: val_loss did not improve from 0.01731\n",
      "74/74 [==============================] - 0s 3ms/step - loss: 0.0040 - accuracy: 0.9989 - val_loss: 0.0381 - val_accuracy: 0.9917\n",
      "Epoch 90/1000\n",
      "58/74 [======================>.......] - ETA: 0s - loss: 0.0089 - accuracy: 0.9987\n",
      "Epoch 90: val_loss did not improve from 0.01731\n",
      "74/74 [==============================] - 0s 3ms/step - loss: 0.0077 - accuracy: 0.9987 - val_loss: 0.0240 - val_accuracy: 0.9936\n",
      "Epoch 91/1000\n",
      "54/74 [====================>.........] - ETA: 0s - loss: 0.0026 - accuracy: 0.9997\n",
      "Epoch 91: val_loss did not improve from 0.01731\n",
      "74/74 [==============================] - 0s 3ms/step - loss: 0.0021 - accuracy: 0.9998 - val_loss: 0.0217 - val_accuracy: 0.9955\n",
      "Epoch 92/1000\n",
      "58/74 [======================>.......] - ETA: 0s - loss: 0.0011 - accuracy: 1.0000  \n",
      "Epoch 92: val_loss did not improve from 0.01731\n",
      "74/74 [==============================] - 0s 3ms/step - loss: 0.0015 - accuracy: 0.9998 - val_loss: 0.0222 - val_accuracy: 0.9943\n",
      "Epoch 93/1000\n",
      "54/74 [====================>.........] - ETA: 0s - loss: 0.0029 - accuracy: 0.9988\n",
      "Epoch 93: val_loss did not improve from 0.01731\n",
      "74/74 [==============================] - 0s 3ms/step - loss: 0.0032 - accuracy: 0.9989 - val_loss: 0.0212 - val_accuracy: 0.9943\n",
      "Epoch 94/1000\n",
      "52/74 [====================>.........] - ETA: 0s - loss: 0.0033 - accuracy: 0.9991\n",
      "Epoch 94: val_loss did not improve from 0.01731\n",
      "74/74 [==============================] - 0s 3ms/step - loss: 0.0033 - accuracy: 0.9991 - val_loss: 0.0178 - val_accuracy: 0.9949\n",
      "Epoch 95/1000\n",
      "53/74 [====================>.........] - ETA: 0s - loss: 0.0054 - accuracy: 0.9979  \n",
      "Epoch 95: val_loss did not improve from 0.01731\n",
      "74/74 [==============================] - 0s 3ms/step - loss: 0.0045 - accuracy: 0.9983 - val_loss: 0.0273 - val_accuracy: 0.9923\n",
      "Epoch 96/1000\n",
      "53/74 [====================>.........] - ETA: 0s - loss: 0.0077 - accuracy: 0.9971  \n",
      "Epoch 96: val_loss did not improve from 0.01731\n",
      "74/74 [==============================] - 0s 3ms/step - loss: 0.0063 - accuracy: 0.9979 - val_loss: 0.0241 - val_accuracy: 0.9943\n",
      "Epoch 97/1000\n",
      "62/74 [========================>.....] - ETA: 0s - loss: 0.0029 - accuracy: 0.9990\n",
      "Epoch 97: val_loss did not improve from 0.01731\n",
      "74/74 [==============================] - 0s 3ms/step - loss: 0.0029 - accuracy: 0.9989 - val_loss: 0.0277 - val_accuracy: 0.9917\n",
      "Epoch 98/1000\n",
      "53/74 [====================>.........] - ETA: 0s - loss: 0.0026 - accuracy: 0.9994  \n",
      "Epoch 98: val_loss did not improve from 0.01731\n",
      "74/74 [==============================] - 0s 3ms/step - loss: 0.0027 - accuracy: 0.9996 - val_loss: 0.0190 - val_accuracy: 0.9943\n",
      "Epoch 99/1000\n",
      "56/74 [=====================>........] - ETA: 0s - loss: 0.0026 - accuracy: 0.9992\n",
      "Epoch 99: val_loss did not improve from 0.01731\n",
      "74/74 [==============================] - 0s 3ms/step - loss: 0.0022 - accuracy: 0.9994 - val_loss: 0.0223 - val_accuracy: 0.9949\n",
      "Epoch 100/1000\n",
      "56/74 [=====================>........] - ETA: 0s - loss: 0.0011 - accuracy: 1.0000    \n",
      "Epoch 100: val_loss did not improve from 0.01731\n",
      "74/74 [==============================] - 0s 3ms/step - loss: 0.0013 - accuracy: 1.0000 - val_loss: 0.0207 - val_accuracy: 0.9943\n",
      "Epoch 101/1000\n",
      "55/74 [=====================>........] - ETA: 0s - loss: 0.0021 - accuracy: 0.9994\n",
      "Epoch 101: val_loss did not improve from 0.01731\n",
      "74/74 [==============================] - 0s 3ms/step - loss: 0.0017 - accuracy: 0.9996 - val_loss: 0.0268 - val_accuracy: 0.9936\n",
      "Epoch 102/1000\n",
      "55/74 [=====================>........] - ETA: 0s - loss: 0.0030 - accuracy: 0.9989  \n",
      "Epoch 102: val_loss improved from 0.01731 to 0.01662, saving model to model/keypoint_classifier/keypoint_classifier.hdf5\n",
      "74/74 [==============================] - 0s 3ms/step - loss: 0.0025 - accuracy: 0.9991 - val_loss: 0.0166 - val_accuracy: 0.9949\n",
      "Epoch 103/1000\n",
      "53/74 [====================>.........] - ETA: 0s - loss: 0.0020 - accuracy: 0.9994  \n",
      "Epoch 103: val_loss did not improve from 0.01662\n",
      "74/74 [==============================] - 0s 3ms/step - loss: 0.0031 - accuracy: 0.9991 - val_loss: 0.0313 - val_accuracy: 0.9917\n",
      "Epoch 104/1000\n",
      "49/74 [==================>...........] - ETA: 0s - loss: 0.0018 - accuracy: 0.9994  \n",
      "Epoch 104: val_loss did not improve from 0.01662\n",
      "74/74 [==============================] - 0s 3ms/step - loss: 0.0020 - accuracy: 0.9994 - val_loss: 0.0205 - val_accuracy: 0.9949\n",
      "Epoch 105/1000\n",
      "53/74 [====================>.........] - ETA: 0s - loss: 0.0034 - accuracy: 0.9994\n",
      "Epoch 105: val_loss did not improve from 0.01662\n",
      "74/74 [==============================] - 0s 3ms/step - loss: 0.0028 - accuracy: 0.9996 - val_loss: 0.0218 - val_accuracy: 0.9943\n",
      "Epoch 106/1000\n",
      "56/74 [=====================>........] - ETA: 0s - loss: 0.0012 - accuracy: 0.9997  \n",
      "Epoch 106: val_loss did not improve from 0.01662\n",
      "74/74 [==============================] - 0s 3ms/step - loss: 0.0015 - accuracy: 0.9996 - val_loss: 0.0175 - val_accuracy: 0.9955\n",
      "Epoch 107/1000\n",
      "56/74 [=====================>........] - ETA: 0s - loss: 0.0087 - accuracy: 0.9964\n",
      "Epoch 107: val_loss improved from 0.01662 to 0.01569, saving model to model/keypoint_classifier/keypoint_classifier.hdf5\n",
      "74/74 [==============================] - 0s 3ms/step - loss: 0.0073 - accuracy: 0.9970 - val_loss: 0.0157 - val_accuracy: 0.9962\n",
      "Epoch 108/1000\n",
      "55/74 [=====================>........] - ETA: 0s - loss: 0.0026 - accuracy: 0.9989\n",
      "Epoch 108: val_loss did not improve from 0.01569\n",
      "74/74 [==============================] - 0s 3ms/step - loss: 0.0023 - accuracy: 0.9991 - val_loss: 0.0201 - val_accuracy: 0.9949\n",
      "Epoch 109/1000\n",
      "55/74 [=====================>........] - ETA: 0s - loss: 8.5507e-04 - accuracy: 1.0000\n",
      "Epoch 109: val_loss did not improve from 0.01569\n",
      "74/74 [==============================] - 0s 3ms/step - loss: 0.0012 - accuracy: 1.0000 - val_loss: 0.0202 - val_accuracy: 0.9949\n",
      "Epoch 110/1000\n",
      "47/74 [==================>...........] - ETA: 0s - loss: 0.0011 - accuracy: 0.9997  \n",
      "Epoch 110: val_loss did not improve from 0.01569\n",
      "74/74 [==============================] - 0s 3ms/step - loss: 0.0011 - accuracy: 0.9996 - val_loss: 0.0179 - val_accuracy: 0.9955\n",
      "Epoch 111/1000\n",
      "51/74 [===================>..........] - ETA: 0s - loss: 0.0011 - accuracy: 1.0000    \n",
      "Epoch 111: val_loss did not improve from 0.01569\n",
      "74/74 [==============================] - 0s 3ms/step - loss: 0.0011 - accuracy: 1.0000 - val_loss: 0.0202 - val_accuracy: 0.9943\n",
      "Epoch 112/1000\n",
      "57/74 [======================>.......] - ETA: 0s - loss: 0.0035 - accuracy: 0.9989  \n",
      "Epoch 112: val_loss did not improve from 0.01569\n",
      "74/74 [==============================] - 0s 3ms/step - loss: 0.0029 - accuracy: 0.9991 - val_loss: 0.0169 - val_accuracy: 0.9955\n",
      "Epoch 113/1000\n",
      "54/74 [====================>.........] - ETA: 0s - loss: 7.8735e-04 - accuracy: 1.0000\n",
      "Epoch 113: val_loss did not improve from 0.01569\n",
      "74/74 [==============================] - 0s 3ms/step - loss: 0.0012 - accuracy: 0.9998 - val_loss: 0.0250 - val_accuracy: 0.9923\n",
      "Epoch 114/1000\n",
      "59/74 [======================>.......] - ETA: 0s - loss: 0.0067 - accuracy: 0.9976\n",
      "Epoch 114: val_loss did not improve from 0.01569\n",
      "74/74 [==============================] - 0s 3ms/step - loss: 0.0062 - accuracy: 0.9977 - val_loss: 0.0257 - val_accuracy: 0.9936\n",
      "Epoch 115/1000\n",
      "54/74 [====================>.........] - ETA: 0s - loss: 0.0064 - accuracy: 0.9977  \n",
      "Epoch 115: val_loss did not improve from 0.01569\n",
      "74/74 [==============================] - 0s 3ms/step - loss: 0.0072 - accuracy: 0.9977 - val_loss: 0.0231 - val_accuracy: 0.9923\n",
      "Epoch 116/1000\n",
      "55/74 [=====================>........] - ETA: 0s - loss: 0.0026 - accuracy: 0.9994  \n",
      "Epoch 116: val_loss did not improve from 0.01569\n",
      "74/74 [==============================] - 0s 3ms/step - loss: 0.0027 - accuracy: 0.9991 - val_loss: 0.0230 - val_accuracy: 0.9930\n",
      "Epoch 117/1000\n",
      "58/74 [======================>.......] - ETA: 0s - loss: 0.0010 - accuracy: 1.0000\n",
      "Epoch 117: val_loss did not improve from 0.01569\n",
      "74/74 [==============================] - 0s 3ms/step - loss: 9.7028e-04 - accuracy: 1.0000 - val_loss: 0.0177 - val_accuracy: 0.9949\n",
      "Epoch 118/1000\n",
      "55/74 [=====================>........] - ETA: 0s - loss: 7.3082e-04 - accuracy: 1.0000\n",
      "Epoch 118: val_loss did not improve from 0.01569\n",
      "74/74 [==============================] - 0s 3ms/step - loss: 8.1197e-04 - accuracy: 0.9998 - val_loss: 0.0180 - val_accuracy: 0.9955\n",
      "Epoch 119/1000\n",
      "54/74 [====================>.........] - ETA: 0s - loss: 0.0035 - accuracy: 0.9983  \n",
      "Epoch 119: val_loss did not improve from 0.01569\n",
      "74/74 [==============================] - 0s 3ms/step - loss: 0.0029 - accuracy: 0.9987 - val_loss: 0.0221 - val_accuracy: 0.9943\n",
      "Epoch 120/1000\n",
      "55/74 [=====================>........] - ETA: 0s - loss: 0.0014 - accuracy: 1.0000  \n",
      "Epoch 120: val_loss did not improve from 0.01569\n",
      "74/74 [==============================] - 0s 3ms/step - loss: 0.0012 - accuracy: 1.0000 - val_loss: 0.0213 - val_accuracy: 0.9949\n",
      "Epoch 121/1000\n",
      "56/74 [=====================>........] - ETA: 0s - loss: 5.3806e-04 - accuracy: 1.0000\n",
      "Epoch 121: val_loss did not improve from 0.01569\n",
      "74/74 [==============================] - 0s 3ms/step - loss: 0.0019 - accuracy: 0.9996 - val_loss: 0.0229 - val_accuracy: 0.9949\n",
      "Epoch 122/1000\n",
      "72/74 [============================>.] - ETA: 0s - loss: 9.8940e-04 - accuracy: 1.0000\n",
      "Epoch 122: val_loss did not improve from 0.01569\n",
      "74/74 [==============================] - 0s 3ms/step - loss: 9.7409e-04 - accuracy: 1.0000 - val_loss: 0.0177 - val_accuracy: 0.9955\n",
      "Epoch 123/1000\n",
      "59/74 [======================>.......] - ETA: 0s - loss: 6.5453e-04 - accuracy: 1.0000\n",
      "Epoch 123: val_loss did not improve from 0.01569\n",
      "74/74 [==============================] - 0s 3ms/step - loss: 8.9428e-04 - accuracy: 0.9998 - val_loss: 0.0184 - val_accuracy: 0.9943\n",
      "Epoch 124/1000\n",
      "56/74 [=====================>........] - ETA: 0s - loss: 0.0017 - accuracy: 0.9994\n",
      "Epoch 124: val_loss did not improve from 0.01569\n",
      "74/74 [==============================] - 0s 3ms/step - loss: 0.0014 - accuracy: 0.9996 - val_loss: 0.0185 - val_accuracy: 0.9949\n",
      "Epoch 125/1000\n",
      "51/74 [===================>..........] - ETA: 0s - loss: 0.0017 - accuracy: 0.9991  \n",
      "Epoch 125: val_loss did not improve from 0.01569\n",
      "74/74 [==============================] - 0s 3ms/step - loss: 0.0023 - accuracy: 0.9989 - val_loss: 0.0195 - val_accuracy: 0.9955\n",
      "Epoch 126/1000\n",
      "54/74 [====================>.........] - ETA: 0s - loss: 0.0032 - accuracy: 0.9988    \n",
      "Epoch 126: val_loss did not improve from 0.01569\n",
      "74/74 [==============================] - 0s 3ms/step - loss: 0.0063 - accuracy: 0.9979 - val_loss: 0.0276 - val_accuracy: 0.9943\n",
      "Epoch 127/1000\n",
      "57/74 [======================>.......] - ETA: 0s - loss: 0.0068 - accuracy: 0.9984  \n",
      "Epoch 127: val_loss did not improve from 0.01569\n",
      "74/74 [==============================] - 0s 3ms/step - loss: 0.0055 - accuracy: 0.9987 - val_loss: 0.0191 - val_accuracy: 0.9949\n",
      "Epoch 128/1000\n",
      "51/74 [===================>..........] - ETA: 0s - loss: 9.8302e-04 - accuracy: 1.0000\n",
      "Epoch 128: val_loss did not improve from 0.01569\n",
      "74/74 [==============================] - 0s 3ms/step - loss: 9.8330e-04 - accuracy: 1.0000 - val_loss: 0.0204 - val_accuracy: 0.9955\n",
      "Epoch 129/1000\n",
      "53/74 [====================>.........] - ETA: 0s - loss: 0.0010 - accuracy: 0.9997  \n",
      "Epoch 129: val_loss did not improve from 0.01569\n",
      "74/74 [==============================] - 0s 3ms/step - loss: 9.8856e-04 - accuracy: 0.9998 - val_loss: 0.0186 - val_accuracy: 0.9955\n",
      "Epoch 130/1000\n",
      "53/74 [====================>.........] - ETA: 0s - loss: 7.9104e-04 - accuracy: 1.0000\n",
      "Epoch 130: val_loss did not improve from 0.01569\n",
      "74/74 [==============================] - 0s 3ms/step - loss: 0.0020 - accuracy: 0.9998 - val_loss: 0.0197 - val_accuracy: 0.9949\n",
      "Epoch 131/1000\n",
      "55/74 [=====================>........] - ETA: 0s - loss: 5.9627e-04 - accuracy: 1.0000\n",
      "Epoch 131: val_loss did not improve from 0.01569\n",
      "74/74 [==============================] - 0s 3ms/step - loss: 8.3140e-04 - accuracy: 0.9998 - val_loss: 0.0198 - val_accuracy: 0.9949\n",
      "Epoch 132/1000\n",
      "57/74 [======================>.......] - ETA: 0s - loss: 7.2595e-04 - accuracy: 0.9997\n",
      "Epoch 132: val_loss did not improve from 0.01569\n",
      "74/74 [==============================] - 0s 3ms/step - loss: 0.0013 - accuracy: 0.9996 - val_loss: 0.0188 - val_accuracy: 0.9955\n",
      "Epoch 133/1000\n",
      "72/74 [============================>.] - ETA: 0s - loss: 4.7783e-04 - accuracy: 1.0000\n",
      "Epoch 133: val_loss did not improve from 0.01569\n",
      "74/74 [==============================] - 0s 3ms/step - loss: 5.1674e-04 - accuracy: 1.0000 - val_loss: 0.0181 - val_accuracy: 0.9955\n",
      "Epoch 134/1000\n",
      "66/74 [=========================>....] - ETA: 0s - loss: 3.8388e-04 - accuracy: 1.0000\n",
      "Epoch 134: val_loss did not improve from 0.01569\n",
      "74/74 [==============================] - 0s 3ms/step - loss: 4.1109e-04 - accuracy: 1.0000 - val_loss: 0.0181 - val_accuracy: 0.9955\n",
      "Epoch 135/1000\n",
      "57/74 [======================>.......] - ETA: 0s - loss: 2.8247e-04 - accuracy: 1.0000\n",
      "Epoch 135: val_loss did not improve from 0.01569\n",
      "74/74 [==============================] - 0s 3ms/step - loss: 3.2949e-04 - accuracy: 1.0000 - val_loss: 0.0173 - val_accuracy: 0.9955\n",
      "Epoch 136/1000\n",
      "58/74 [======================>.......] - ETA: 0s - loss: 3.5657e-04 - accuracy: 1.0000\n",
      "Epoch 136: val_loss did not improve from 0.01569\n",
      "74/74 [==============================] - 0s 3ms/step - loss: 3.9941e-04 - accuracy: 1.0000 - val_loss: 0.0177 - val_accuracy: 0.9955\n",
      "Epoch 137/1000\n",
      "74/74 [==============================] - ETA: 0s - loss: 4.1668e-04 - accuracy: 1.0000\n",
      "Epoch 137: val_loss did not improve from 0.01569\n",
      "74/74 [==============================] - 0s 3ms/step - loss: 4.1668e-04 - accuracy: 1.0000 - val_loss: 0.0190 - val_accuracy: 0.9955\n",
      "Epoch 138/1000\n",
      "51/74 [===================>..........] - ETA: 0s - loss: 2.0729e-04 - accuracy: 1.0000\n",
      "Epoch 138: val_loss did not improve from 0.01569\n",
      "74/74 [==============================] - 0s 3ms/step - loss: 3.6269e-04 - accuracy: 1.0000 - val_loss: 0.0169 - val_accuracy: 0.9955\n",
      "Epoch 139/1000\n",
      "53/74 [====================>.........] - ETA: 0s - loss: 0.0013 - accuracy: 0.9994    \n",
      "Epoch 139: val_loss improved from 0.01569 to 0.01473, saving model to model/keypoint_classifier/keypoint_classifier.hdf5\n",
      "74/74 [==============================] - 0s 3ms/step - loss: 0.0012 - accuracy: 0.9994 - val_loss: 0.0147 - val_accuracy: 0.9955\n",
      "Epoch 140/1000\n",
      "73/74 [============================>.] - ETA: 0s - loss: 5.0120e-04 - accuracy: 1.0000\n",
      "Epoch 140: val_loss did not improve from 0.01473\n",
      "74/74 [==============================] - 0s 3ms/step - loss: 4.9860e-04 - accuracy: 1.0000 - val_loss: 0.0171 - val_accuracy: 0.9955\n",
      "Epoch 141/1000\n",
      "53/74 [====================>.........] - ETA: 0s - loss: 3.0330e-04 - accuracy: 1.0000\n",
      "Epoch 141: val_loss did not improve from 0.01473\n",
      "74/74 [==============================] - 0s 3ms/step - loss: 4.4145e-04 - accuracy: 1.0000 - val_loss: 0.0191 - val_accuracy: 0.9955\n",
      "Epoch 142/1000\n",
      "55/74 [=====================>........] - ETA: 0s - loss: 4.1960e-04 - accuracy: 1.0000\n",
      "Epoch 142: val_loss did not improve from 0.01473\n",
      "74/74 [==============================] - 0s 3ms/step - loss: 6.4330e-04 - accuracy: 0.9998 - val_loss: 0.0215 - val_accuracy: 0.9949\n",
      "Epoch 143/1000\n",
      "57/74 [======================>.......] - ETA: 0s - loss: 4.8989e-04 - accuracy: 1.0000\n",
      "Epoch 143: val_loss did not improve from 0.01473\n",
      "74/74 [==============================] - 0s 3ms/step - loss: 0.0016 - accuracy: 0.9996 - val_loss: 0.0189 - val_accuracy: 0.9955\n",
      "Epoch 144/1000\n",
      "69/74 [==========================>...] - ETA: 0s - loss: 0.0053 - accuracy: 0.9989\n",
      "Epoch 144: val_loss did not improve from 0.01473\n",
      "74/74 [==============================] - 0s 3ms/step - loss: 0.0051 - accuracy: 0.9989 - val_loss: 0.0164 - val_accuracy: 0.9949\n",
      "Epoch 145/1000\n",
      "57/74 [======================>.......] - ETA: 0s - loss: 0.0068 - accuracy: 0.9970  \n",
      "Epoch 145: val_loss did not improve from 0.01473\n",
      "74/74 [==============================] - 0s 3ms/step - loss: 0.0079 - accuracy: 0.9968 - val_loss: 0.1454 - val_accuracy: 0.9649\n",
      "Epoch 146/1000\n",
      "55/74 [=====================>........] - ETA: 0s - loss: 0.0186 - accuracy: 0.9949\n",
      "Epoch 146: val_loss did not improve from 0.01473\n",
      "74/74 [==============================] - 0s 3ms/step - loss: 0.0193 - accuracy: 0.9951 - val_loss: 0.0323 - val_accuracy: 0.9936\n",
      "Epoch 147/1000\n",
      "57/74 [======================>.......] - ETA: 0s - loss: 0.0038 - accuracy: 0.9986  \n",
      "Epoch 147: val_loss did not improve from 0.01473\n",
      "74/74 [==============================] - 0s 3ms/step - loss: 0.0034 - accuracy: 0.9989 - val_loss: 0.0298 - val_accuracy: 0.9943\n",
      "Epoch 148/1000\n",
      "58/74 [======================>.......] - ETA: 0s - loss: 8.3721e-04 - accuracy: 1.0000\n",
      "Epoch 148: val_loss did not improve from 0.01473\n",
      "74/74 [==============================] - 0s 3ms/step - loss: 8.2105e-04 - accuracy: 1.0000 - val_loss: 0.0266 - val_accuracy: 0.9949\n",
      "Epoch 149/1000\n",
      "57/74 [======================>.......] - ETA: 0s - loss: 4.9245e-04 - accuracy: 1.0000\n",
      "Epoch 149: val_loss did not improve from 0.01473\n",
      "74/74 [==============================] - 0s 3ms/step - loss: 4.9372e-04 - accuracy: 1.0000 - val_loss: 0.0275 - val_accuracy: 0.9949\n",
      "Epoch 150/1000\n",
      "58/74 [======================>.......] - ETA: 0s - loss: 3.4584e-04 - accuracy: 1.0000\n",
      "Epoch 150: val_loss did not improve from 0.01473\n",
      "74/74 [==============================] - 0s 3ms/step - loss: 3.5198e-04 - accuracy: 1.0000 - val_loss: 0.0270 - val_accuracy: 0.9949\n",
      "Epoch 151/1000\n",
      "69/74 [==========================>...] - ETA: 0s - loss: 3.0266e-04 - accuracy: 1.0000\n",
      "Epoch 151: val_loss did not improve from 0.01473\n",
      "74/74 [==============================] - 0s 3ms/step - loss: 3.1362e-04 - accuracy: 1.0000 - val_loss: 0.0256 - val_accuracy: 0.9949\n",
      "Epoch 152/1000\n",
      "55/74 [=====================>........] - ETA: 0s - loss: 2.6017e-04 - accuracy: 1.0000\n",
      "Epoch 152: val_loss did not improve from 0.01473\n",
      "74/74 [==============================] - 0s 3ms/step - loss: 2.9110e-04 - accuracy: 1.0000 - val_loss: 0.0255 - val_accuracy: 0.9949\n",
      "Epoch 153/1000\n",
      "56/74 [=====================>........] - ETA: 0s - loss: 2.8792e-04 - accuracy: 1.0000\n",
      "Epoch 153: val_loss did not improve from 0.01473\n",
      "74/74 [==============================] - 0s 3ms/step - loss: 2.8704e-04 - accuracy: 1.0000 - val_loss: 0.0240 - val_accuracy: 0.9949\n",
      "Epoch 154/1000\n",
      "58/74 [======================>.......] - ETA: 0s - loss: 3.2859e-04 - accuracy: 1.0000\n",
      "Epoch 154: val_loss did not improve from 0.01473\n",
      "74/74 [==============================] - 0s 3ms/step - loss: 3.0892e-04 - accuracy: 1.0000 - val_loss: 0.0255 - val_accuracy: 0.9943\n",
      "Epoch 155/1000\n",
      "52/74 [====================>.........] - ETA: 0s - loss: 2.0405e-04 - accuracy: 1.0000\n",
      "Epoch 155: val_loss did not improve from 0.01473\n",
      "74/74 [==============================] - 0s 3ms/step - loss: 2.6981e-04 - accuracy: 1.0000 - val_loss: 0.0244 - val_accuracy: 0.9949\n",
      "Epoch 156/1000\n",
      "57/74 [======================>.......] - ETA: 0s - loss: 2.8030e-04 - accuracy: 1.0000\n",
      "Epoch 156: val_loss did not improve from 0.01473\n",
      "74/74 [==============================] - 0s 3ms/step - loss: 2.7634e-04 - accuracy: 1.0000 - val_loss: 0.0250 - val_accuracy: 0.9949\n",
      "Epoch 157/1000\n",
      "57/74 [======================>.......] - ETA: 0s - loss: 2.6031e-04 - accuracy: 1.0000\n",
      "Epoch 157: val_loss did not improve from 0.01473\n",
      "74/74 [==============================] - 0s 3ms/step - loss: 2.4672e-04 - accuracy: 1.0000 - val_loss: 0.0243 - val_accuracy: 0.9949\n",
      "Epoch 158/1000\n",
      "57/74 [======================>.......] - ETA: 0s - loss: 2.5009e-04 - accuracy: 1.0000\n",
      "Epoch 158: val_loss did not improve from 0.01473\n",
      "74/74 [==============================] - 0s 3ms/step - loss: 2.4060e-04 - accuracy: 1.0000 - val_loss: 0.0240 - val_accuracy: 0.9949\n",
      "Epoch 159/1000\n",
      "58/74 [======================>.......] - ETA: 0s - loss: 3.1802e-04 - accuracy: 1.0000\n",
      "Epoch 159: val_loss did not improve from 0.01473\n",
      "74/74 [==============================] - 0s 3ms/step - loss: 2.8884e-04 - accuracy: 1.0000 - val_loss: 0.0252 - val_accuracy: 0.9949\n",
      "Epoch 160/1000\n",
      "55/74 [=====================>........] - ETA: 0s - loss: 2.3621e-04 - accuracy: 1.0000\n",
      "Epoch 160: val_loss did not improve from 0.01473\n",
      "74/74 [==============================] - 0s 3ms/step - loss: 2.9169e-04 - accuracy: 1.0000 - val_loss: 0.0244 - val_accuracy: 0.9949\n",
      "Epoch 161/1000\n",
      "45/74 [=================>............] - ETA: 0s - loss: 3.1681e-04 - accuracy: 1.0000\n",
      "Epoch 161: val_loss did not improve from 0.01473\n",
      "74/74 [==============================] - 0s 3ms/step - loss: 5.3632e-04 - accuracy: 1.0000 - val_loss: 0.0240 - val_accuracy: 0.9949\n",
      "Epoch 162/1000\n",
      "58/74 [======================>.......] - ETA: 0s - loss: 2.1609e-04 - accuracy: 1.0000\n",
      "Epoch 162: val_loss did not improve from 0.01473\n",
      "74/74 [==============================] - 0s 3ms/step - loss: 4.6919e-04 - accuracy: 0.9998 - val_loss: 0.0305 - val_accuracy: 0.9923\n",
      "Epoch 163/1000\n",
      "58/74 [======================>.......] - ETA: 0s - loss: 0.0034 - accuracy: 0.9987  \n",
      "Epoch 163: val_loss did not improve from 0.01473\n",
      "74/74 [==============================] - 0s 3ms/step - loss: 0.0044 - accuracy: 0.9985 - val_loss: 0.0242 - val_accuracy: 0.9955\n",
      "Epoch 164/1000\n",
      "58/74 [======================>.......] - ETA: 0s - loss: 0.0020 - accuracy: 0.9995  \n",
      "Epoch 164: val_loss did not improve from 0.01473\n",
      "74/74 [==============================] - 0s 3ms/step - loss: 0.0024 - accuracy: 0.9994 - val_loss: 0.0315 - val_accuracy: 0.9943\n",
      "Epoch 165/1000\n",
      "58/74 [======================>.......] - ETA: 0s - loss: 0.0023 - accuracy: 0.9995  \n",
      "Epoch 165: val_loss did not improve from 0.01473\n",
      "74/74 [==============================] - 0s 3ms/step - loss: 0.0020 - accuracy: 0.9996 - val_loss: 0.0176 - val_accuracy: 0.9943\n",
      "Epoch 166/1000\n",
      "57/74 [======================>.......] - ETA: 0s - loss: 0.0098 - accuracy: 0.9964  \n",
      "Epoch 166: val_loss did not improve from 0.01473\n",
      "74/74 [==============================] - 0s 3ms/step - loss: 0.0096 - accuracy: 0.9968 - val_loss: 0.0358 - val_accuracy: 0.9930\n",
      "Epoch 167/1000\n",
      "60/74 [=======================>......] - ETA: 0s - loss: 0.0048 - accuracy: 0.9977\n",
      "Epoch 167: val_loss did not improve from 0.01473\n",
      "74/74 [==============================] - 0s 2ms/step - loss: 0.0052 - accuracy: 0.9977 - val_loss: 0.0353 - val_accuracy: 0.9923\n",
      "Epoch 168/1000\n",
      "60/74 [=======================>......] - ETA: 0s - loss: 0.0054 - accuracy: 0.9982\n",
      "Epoch 168: val_loss did not improve from 0.01473\n",
      "74/74 [==============================] - 0s 2ms/step - loss: 0.0068 - accuracy: 0.9983 - val_loss: 0.0291 - val_accuracy: 0.9917\n",
      "Epoch 169/1000\n",
      "60/74 [=======================>......] - ETA: 0s - loss: 0.0020 - accuracy: 0.9995    \n",
      "Epoch 169: val_loss did not improve from 0.01473\n",
      "74/74 [==============================] - 0s 2ms/step - loss: 0.0017 - accuracy: 0.9996 - val_loss: 0.0383 - val_accuracy: 0.9866\n",
      "Epoch 170/1000\n",
      "57/74 [======================>.......] - ETA: 0s - loss: 0.0023 - accuracy: 0.9992  \n",
      "Epoch 170: val_loss did not improve from 0.01473\n",
      "74/74 [==============================] - 0s 3ms/step - loss: 0.0030 - accuracy: 0.9987 - val_loss: 0.0240 - val_accuracy: 0.9949\n",
      "Epoch 171/1000\n",
      "72/74 [============================>.] - ETA: 0s - loss: 6.9549e-04 - accuracy: 1.0000\n",
      "Epoch 171: val_loss did not improve from 0.01473\n",
      "74/74 [==============================] - 0s 3ms/step - loss: 6.8324e-04 - accuracy: 1.0000 - val_loss: 0.0212 - val_accuracy: 0.9949\n",
      "Epoch 172/1000\n",
      "59/74 [======================>.......] - ETA: 0s - loss: 2.7854e-04 - accuracy: 1.0000\n",
      "Epoch 172: val_loss did not improve from 0.01473\n",
      "74/74 [==============================] - 0s 2ms/step - loss: 2.4181e-04 - accuracy: 1.0000 - val_loss: 0.0217 - val_accuracy: 0.9949\n",
      "Epoch 173/1000\n",
      "52/74 [====================>.........] - ETA: 0s - loss: 2.4156e-04 - accuracy: 1.0000\n",
      "Epoch 173: val_loss did not improve from 0.01473\n",
      "74/74 [==============================] - 0s 3ms/step - loss: 2.6783e-04 - accuracy: 1.0000 - val_loss: 0.0212 - val_accuracy: 0.9949\n",
      "Epoch 174/1000\n",
      "55/74 [=====================>........] - ETA: 0s - loss: 8.1658e-04 - accuracy: 0.9997\n",
      "Epoch 174: val_loss did not improve from 0.01473\n",
      "74/74 [==============================] - 0s 3ms/step - loss: 6.6292e-04 - accuracy: 0.9998 - val_loss: 0.0189 - val_accuracy: 0.9955\n",
      "Epoch 175/1000\n",
      "57/74 [======================>.......] - ETA: 0s - loss: 0.0050 - accuracy: 0.9986  \n",
      "Epoch 175: val_loss did not improve from 0.01473\n",
      "74/74 [==============================] - 0s 3ms/step - loss: 0.0040 - accuracy: 0.9989 - val_loss: 0.0292 - val_accuracy: 0.9949\n",
      "Epoch 176/1000\n",
      "59/74 [======================>.......] - ETA: 0s - loss: 0.0013 - accuracy: 0.9992  \n",
      "Epoch 176: val_loss did not improve from 0.01473\n",
      "74/74 [==============================] - 0s 3ms/step - loss: 0.0011 - accuracy: 0.9994 - val_loss: 0.0211 - val_accuracy: 0.9949\n",
      "Epoch 177/1000\n",
      "58/74 [======================>.......] - ETA: 0s - loss: 3.0470e-04 - accuracy: 1.0000\n",
      "Epoch 177: val_loss did not improve from 0.01473\n",
      "74/74 [==============================] - 0s 3ms/step - loss: 3.7217e-04 - accuracy: 1.0000 - val_loss: 0.0208 - val_accuracy: 0.9949\n",
      "Epoch 178/1000\n",
      "58/74 [======================>.......] - ETA: 0s - loss: 2.1280e-04 - accuracy: 1.0000\n",
      "Epoch 178: val_loss did not improve from 0.01473\n",
      "74/74 [==============================] - 0s 3ms/step - loss: 2.0756e-04 - accuracy: 1.0000 - val_loss: 0.0209 - val_accuracy: 0.9949\n",
      "Epoch 179/1000\n",
      "56/74 [=====================>........] - ETA: 0s - loss: 1.8280e-04 - accuracy: 1.0000\n",
      "Epoch 179: val_loss did not improve from 0.01473\n",
      "74/74 [==============================] - 0s 3ms/step - loss: 2.6886e-04 - accuracy: 1.0000 - val_loss: 0.0210 - val_accuracy: 0.9949\n",
      "Epoch 180/1000\n",
      "71/74 [===========================>..] - ETA: 0s - loss: 2.3871e-04 - accuracy: 1.0000\n",
      "Epoch 180: val_loss did not improve from 0.01473\n",
      "74/74 [==============================] - 0s 3ms/step - loss: 2.3360e-04 - accuracy: 1.0000 - val_loss: 0.0216 - val_accuracy: 0.9949\n",
      "Epoch 181/1000\n",
      "59/74 [======================>.......] - ETA: 0s - loss: 1.3913e-04 - accuracy: 1.0000\n",
      "Epoch 181: val_loss did not improve from 0.01473\n",
      "74/74 [==============================] - 0s 3ms/step - loss: 1.4876e-04 - accuracy: 1.0000 - val_loss: 0.0210 - val_accuracy: 0.9955\n",
      "Epoch 182/1000\n",
      "55/74 [=====================>........] - ETA: 0s - loss: 1.4438e-04 - accuracy: 1.0000\n",
      "Epoch 182: val_loss did not improve from 0.01473\n",
      "74/74 [==============================] - 0s 3ms/step - loss: 1.3770e-04 - accuracy: 1.0000 - val_loss: 0.0207 - val_accuracy: 0.9955\n",
      "Epoch 183/1000\n",
      "55/74 [=====================>........] - ETA: 0s - loss: 1.5399e-04 - accuracy: 1.0000\n",
      "Epoch 183: val_loss did not improve from 0.01473\n",
      "74/74 [==============================] - 0s 3ms/step - loss: 1.4316e-04 - accuracy: 1.0000 - val_loss: 0.0206 - val_accuracy: 0.9949\n",
      "Epoch 184/1000\n",
      "62/74 [========================>.....] - ETA: 0s - loss: 1.3381e-04 - accuracy: 1.0000\n",
      "Epoch 184: val_loss did not improve from 0.01473\n",
      "74/74 [==============================] - 0s 2ms/step - loss: 1.3112e-04 - accuracy: 1.0000 - val_loss: 0.0206 - val_accuracy: 0.9955\n",
      "Epoch 185/1000\n",
      "58/74 [======================>.......] - ETA: 0s - loss: 1.1490e-04 - accuracy: 1.0000\n",
      "Epoch 185: val_loss did not improve from 0.01473\n",
      "74/74 [==============================] - 0s 3ms/step - loss: 1.3528e-04 - accuracy: 1.0000 - val_loss: 0.0200 - val_accuracy: 0.9955\n",
      "Epoch 186/1000\n",
      "58/74 [======================>.......] - ETA: 0s - loss: 1.3015e-04 - accuracy: 1.0000\n",
      "Epoch 186: val_loss did not improve from 0.01473\n",
      "74/74 [==============================] - 0s 3ms/step - loss: 1.4427e-04 - accuracy: 1.0000 - val_loss: 0.0203 - val_accuracy: 0.9955\n",
      "Epoch 187/1000\n",
      "53/74 [====================>.........] - ETA: 0s - loss: 1.7243e-04 - accuracy: 1.0000\n",
      "Epoch 187: val_loss did not improve from 0.01473\n",
      "74/74 [==============================] - 0s 3ms/step - loss: 1.5162e-04 - accuracy: 1.0000 - val_loss: 0.0198 - val_accuracy: 0.9955\n",
      "Epoch 188/1000\n",
      "69/74 [==========================>...] - ETA: 0s - loss: 1.4813e-04 - accuracy: 1.0000\n",
      "Epoch 188: val_loss did not improve from 0.01473\n",
      "74/74 [==============================] - 0s 3ms/step - loss: 1.4525e-04 - accuracy: 1.0000 - val_loss: 0.0197 - val_accuracy: 0.9955\n",
      "Epoch 189/1000\n",
      "59/74 [======================>.......] - ETA: 0s - loss: 1.1922e-04 - accuracy: 1.0000\n",
      "Epoch 189: val_loss did not improve from 0.01473\n",
      "74/74 [==============================] - 0s 3ms/step - loss: 1.2330e-04 - accuracy: 1.0000 - val_loss: 0.0197 - val_accuracy: 0.9955\n",
      "Epoch 189: early stopping\n"
     ]
    },
    {
     "data": {
      "text/plain": [
       "<keras.src.callbacks.History at 0x141136250>"
      ]
     },
     "execution_count": 44,
     "metadata": {},
     "output_type": "execute_result"
    }
   ],
   "source": [
    "model.fit(\n",
    "    X_train,\n",
    "    y_train,\n",
    "    epochs=1000,\n",
    "    batch_size=64,\n",
    "    validation_data=(X_test, y_test),\n",
    "    callbacks=[cp_callback, es_callback]\n",
    ")"
   ]
  },
  {
   "cell_type": "code",
   "execution_count": 45,
   "metadata": {
    "id": "RBkmDeUW9hE4"
   },
   "outputs": [],
   "source": [
    "# Loading the saved model\n",
    "model = tf.keras.models.load_model(model_save_path)"
   ]
  },
  {
   "cell_type": "code",
   "execution_count": 46,
   "metadata": {
    "colab": {
     "base_uri": "https://localhost:8080/"
    },
    "id": "pxvb2Y299hE3",
    "outputId": "7015e279-0501-4f24-d1b5-90652d2de17d"
   },
   "outputs": [
    {
     "name": "stdout",
     "output_type": "stream",
     "text": [
      "25/25 [==============================] - 0s 2ms/step - loss: 0.0147 - accuracy: 0.9955\n"
     ]
    }
   ],
   "source": [
    "# Model evaluation\n",
    "# TODO Test on loaded model\n",
    "val_loss, val_acc = model.evaluate(X_test, y_test, batch_size=64)"
   ]
  },
  {
   "cell_type": "code",
   "execution_count": 47,
   "metadata": {
    "colab": {
     "base_uri": "https://localhost:8080/"
    },
    "id": "tFz9Tb0I9hE4",
    "outputId": "bb8a62a9-bf7d-4d99-8099-bda4e2e1c73a"
   },
   "outputs": [
    {
     "name": "stdout",
     "output_type": "stream",
     "text": [
      "1/1 [==============================] - 0s 84ms/step\n",
      "[2.4816995e-07 2.0154066e-04 2.8883248e-15 3.2730616e-16 2.9036948e-13\n",
      " 2.1070568e-07 8.5227388e-24 9.9979800e-01 1.8310771e-15]\n",
      "7\n"
     ]
    }
   ],
   "source": [
    "# Inference test\n",
    "predict_result = model.predict(np.array([X_test[0]]))\n",
    "print(np.squeeze(predict_result))\n",
    "print(np.argmax(np.squeeze(predict_result)))"
   ]
  },
  {
   "cell_type": "markdown",
   "metadata": {
    "id": "S3U4yNWx9hE4"
   },
   "source": [
    "# Confusion matrix"
   ]
  },
  {
   "cell_type": "code",
   "execution_count": 48,
   "metadata": {
    "colab": {
     "base_uri": "https://localhost:8080/",
     "height": 646
    },
    "id": "AP1V6SCk9hE5",
    "outputId": "efce96b9-ca1c-44a5-ef77-58f1d5fc154c"
   },
   "outputs": [
    {
     "name": "stdout",
     "output_type": "stream",
     "text": [
      "49/49 [==============================] - 0s 1ms/step\n"
     ]
    },
    {
     "data": {
      "image/png": "[encoded data removed]",
      "text/plain": [
       "<Figure size 700x600 with 2 Axes>"
      ]
     },
     "metadata": {},
     "output_type": "display_data"
    },
    {
     "name": "stdout",
     "output_type": "stream",
     "text": [
      "Classification Report\n",
      "              precision    recall  f1-score   support\n",
      "\n",
      "           0       1.00      0.99      0.99       431\n",
      "           1       1.00      1.00      1.00       410\n",
      "           2       0.99      0.99      0.99       365\n",
      "           3       0.99      1.00      1.00       166\n",
      "           4       1.00      1.00      1.00        37\n",
      "           5       0.99      1.00      0.99        67\n",
      "           6       1.00      1.00      1.00        28\n",
      "           7       1.00      1.00      1.00        40\n",
      "           8       1.00      1.00      1.00        23\n",
      "\n",
      "    accuracy                           1.00      1567\n",
      "   macro avg       1.00      1.00      1.00      1567\n",
      "weighted avg       1.00      1.00      1.00      1567\n",
      "\n"
     ]
    }
   ],
   "source": [
    "import pandas as pd\n",
    "import seaborn as sns\n",
    "import matplotlib.pyplot as plt\n",
    "from sklearn.metrics import confusion_matrix, classification_report\n",
    "\n",
    "def print_confusion_matrix(y_true, y_pred, report=True):\n",
    "    labels = sorted(list(set(y_true)))\n",
    "    cmx_data = confusion_matrix(y_true, y_pred, labels=labels)\n",
    "    \n",
    "    df_cmx = pd.DataFrame(cmx_data, index=labels, columns=labels)\n",
    " \n",
    "    fig, ax = plt.subplots(figsize=(7, 6))\n",
    "    sns.heatmap(df_cmx, annot=True, fmt='g' ,square=False)\n",
    "    ax.set_ylim(len(set(y_true)), 0)\n",
    "    plt.show()\n",
    "    \n",
    "    if report:\n",
    "        print('Classification Report')\n",
    "        print(classification_report(y_test, y_pred))\n",
    "\n",
    "Y_pred = model.predict(X_test)\n",
    "y_pred = np.argmax(Y_pred, axis=1)\n",
    "\n",
    "print_confusion_matrix(y_test, y_pred)"
   ]
  },
  {
   "cell_type": "markdown",
   "metadata": {
    "id": "FNP6aqzc9hE5"
   },
   "source": [
    "# Convert to model for Tensorflow-Lite"
   ]
  },
  {
   "cell_type": "code",
   "execution_count": 49,
   "metadata": {
    "id": "ODjnYyld9hE6"
   },
   "outputs": [
    {
     "name": "stderr",
     "output_type": "stream",
     "text": [
      "/usr/local/lib/python3.11/site-packages/keras/src/engine/training.py:3079: UserWarning: You are saving your model as an HDF5 file via `model.save()`. This file format is considered legacy. We recommend using instead the native Keras format, e.g. `model.save('my_model.keras')`.\n",
      "  saving_api.save_model(\n"
     ]
    }
   ],
   "source": [
    "# Save as a model dedicated to inference\n",
    "model.save(model_save_path, include_optimizer=False)"
   ]
  },
  {
   "cell_type": "code",
   "execution_count": 50,
   "metadata": {
    "colab": {
     "base_uri": "https://localhost:8080/"
    },
    "id": "zRfuK8Y59hE6",
    "outputId": "106250fb-84e1-4ee8-bc8e-dcedb2bfd31c"
   },
   "outputs": [
    {
     "name": "stdout",
     "output_type": "stream",
     "text": [
      "INFO:tensorflow:Assets written to: /var/folders/kf/9vc6x6n97q942grwf1zf0trw0000gn/T/tmp03uw5dkx/assets\n"
     ]
    },
    {
     "name": "stderr",
     "output_type": "stream",
     "text": [
      "INFO:tensorflow:Assets written to: /var/folders/kf/9vc6x6n97q942grwf1zf0trw0000gn/T/tmp03uw5dkx/assets\n",
      "2023-10-19 12:45:48.320017: W tensorflow/compiler/mlir/lite/python/tf_tfl_flatbuffer_helpers.cc:378] Ignored output_format.\n",
      "2023-10-19 12:45:48.320044: W tensorflow/compiler/mlir/lite/python/tf_tfl_flatbuffer_helpers.cc:381] Ignored drop_control_dependency.\n",
      "2023-10-19 12:45:48.322744: I tensorflow/cc/saved_model/reader.cc:83] Reading SavedModel from: /var/folders/kf/9vc6x6n97q942grwf1zf0trw0000gn/T/tmp03uw5dkx\n",
      "2023-10-19 12:45:48.325877: I tensorflow/cc/saved_model/reader.cc:51] Reading meta graph with tags { serve }\n",
      "2023-10-19 12:45:48.325902: I tensorflow/cc/saved_model/reader.cc:146] Reading SavedModel debug info (if present) from: /var/folders/kf/9vc6x6n97q942grwf1zf0trw0000gn/T/tmp03uw5dkx\n",
      "2023-10-19 12:45:48.331395: I tensorflow/compiler/mlir/mlir_graph_optimization_pass.cc:382] MLIR V1 optimization pass is not enabled\n",
      "2023-10-19 12:45:48.333589: I tensorflow/cc/saved_model/loader.cc:233] Restoring SavedModel bundle.\n",
      "2023-10-19 12:45:48.394377: I tensorflow/cc/saved_model/loader.cc:217] Running initialization op on SavedModel bundle at path: /var/folders/kf/9vc6x6n97q942grwf1zf0trw0000gn/T/tmp03uw5dkx\n",
      "2023-10-19 12:45:48.412862: I tensorflow/cc/saved_model/loader.cc:316] SavedModel load for tags { serve }; Status: success: OK. Took 90130 microseconds.\n",
      "2023-10-19 12:45:48.442977: I tensorflow/compiler/mlir/tensorflow/utils/dump_mlir_util.cc:269] disabling MLIR crash reproducer, set env var `MLIR_CRASH_REPRODUCER_DIRECTORY` to enable.\n"
     ]
    },
    {
     "data": {
      "text/plain": [
       "8032"
      ]
     },
     "execution_count": 50,
     "metadata": {},
     "output_type": "execute_result"
    }
   ],
   "source": [
    "# Transform model (quantization)\n",
    "\n",
    "converter = tf.lite.TFLiteConverter.from_keras_model(model)\n",
    "converter.optimizations = [tf.lite.Optimize.DEFAULT]\n",
    "tflite_quantized_model = converter.convert()\n",
    "\n",
    "open(tflite_save_path, 'wb').write(tflite_quantized_model)"
   ]
  },
  {
   "cell_type": "markdown",
   "metadata": {
    "id": "CHBPBXdx9hE6"
   },
   "source": [
    "## Inference test"
   ]
  },
  {
   "cell_type": "code",
   "execution_count": 51,
   "metadata": {
    "id": "mGAzLocO9hE7"
   },
   "outputs": [
    {
     "name": "stderr",
     "output_type": "stream",
     "text": [
      "INFO: Created TensorFlow Lite XNNPACK delegate for CPU.\n"
     ]
    }
   ],
   "source": [
    "interpreter = tf.lite.Interpreter(model_path=tflite_save_path)\n",
    "interpreter.allocate_tensors()"
   ]
  },
  {
   "cell_type": "code",
   "execution_count": 52,
   "metadata": {
    "id": "oQuDK8YS9hE7"
   },
   "outputs": [],
   "source": [
    "# Get I / O tensor\n",
    "input_details = interpreter.get_input_details()\n",
    "output_details = interpreter.get_output_details()"
   ]
  },
  {
   "cell_type": "code",
   "execution_count": 53,
   "metadata": {
    "id": "2_ixAf_l9hE7"
   },
   "outputs": [],
   "source": [
    "interpreter.set_tensor(input_details[0]['index'], np.array([X_test[0]]))"
   ]
  },
  {
   "cell_type": "code",
   "execution_count": 54,
   "metadata": {
    "colab": {
     "base_uri": "https://localhost:8080/"
    },
    "id": "s4FoAnuc9hE7",
    "outputId": "330d050b-a3fb-41ce-fa07-dc7a48d715e7",
    "scrolled": true
   },
   "outputs": [
    {
     "name": "stdout",
     "output_type": "stream",
     "text": [
      "CPU times: user 607 µs, sys: 343 µs, total: 950 µs\n",
      "Wall time: 718 µs\n"
     ]
    }
   ],
   "source": [
    "%%time\n",
    "# Inference implementation\n",
    "interpreter.invoke()\n",
    "tflite_results = interpreter.get_tensor(output_details[0]['index'])"
   ]
  },
  {
   "cell_type": "code",
   "execution_count": 55,
   "metadata": {
    "colab": {
     "base_uri": "https://localhost:8080/"
    },
    "id": "vONjp19J9hE8",
    "outputId": "9338c9f1-499b-4e10-844d-950075e98a75"
   },
   "outputs": [
    {
     "name": "stdout",
     "output_type": "stream",
     "text": [
      "[2.5059413e-07 1.9959598e-04 2.4500233e-15 3.1080654e-16 2.5947408e-13\n",
      " 2.1029174e-07 7.6230382e-24 9.9980003e-01 1.6501217e-15]\n",
      "7\n"
     ]
    }
   ],
   "source": [
    "print(np.squeeze(tflite_results))\n",
    "print(np.argmax(np.squeeze(tflite_results)))"
   ]
  },
  {
   "cell_type": "markdown",
   "metadata": {
    "id": "2GCHB0ELGs60"
   },
   "source": [
    "## Download model"
   ]
  },
  {
   "cell_type": "code",
   "execution_count": null,
   "metadata": {
    "colab": {
     "base_uri": "https://localhost:8080/"
    },
    "id": "a2jM8I3jGdF6",
    "outputId": "bd2c08cc-d57c-4589-e4fa-f80389176b96"
   },
   "outputs": [],
   "source": [
    "!zip -r model.zip keypoint_classifier  "
   ]
  },
  {
   "cell_type": "markdown",
   "metadata": {
    "id": "vEqyprC6cMVF"
   },
   "source": [
    "\n",
    "\n",
    "---\n",
    "\n",
    "\n",
    "# ❗️Hyperparameters Tuning"
   ]
  },
  {
   "cell_type": "code",
   "execution_count": null,
   "metadata": {
    "id": "KrjjSqlLcQ4O"
   },
   "outputs": [],
   "source": [
    "%load_ext tensorboard\n",
    "from tensorboard.plugins.hparams import api as hp"
   ]
  },
  {
   "cell_type": "code",
   "execution_count": null,
   "metadata": {
    "id": "YO6VffaRcY3R"
   },
   "outputs": [],
   "source": [
    "# Init parameters to tune\n",
    "HP_NUM_UNITS_1 = hp.HParam('num_units_1', hp.Discrete([16, 32, 64]))\n",
    "HP_NUM_UNITS_2 = hp.HParam('num_units_2', hp.Discrete([8, 16, 32]))\n",
    "HP_NUM_UNITS_3 = hp.HParam('num_units_3', hp.Discrete([8, 16, 32]))\n",
    "HP_DROPOUT = hp.HParam('dropout', hp.RealInterval(0.0, 0.2))\n",
    "HP_OPTIMIZER = hp.HParam('optimizer', hp.Discrete(['adam', 'sgd']))\n",
    "\n",
    "METRIC_ACCURACY = 'accuracy'"
   ]
  },
  {
   "cell_type": "code",
   "execution_count": null,
   "metadata": {
    "id": "eMysvzFxctmG"
   },
   "outputs": [],
   "source": [
    "with tf.summary.create_file_writer('logs/hparam_tuning').as_default():\n",
    "  hp.hparams_config(\n",
    "    hparams=[HP_NUM_UNITS_1,HP_NUM_UNITS_2,HP_NUM_UNITS_3, HP_DROPOUT, HP_OPTIMIZER],\n",
    "    metrics=[hp.Metric(METRIC_ACCURACY, display_name='Accuracy')],\n",
    "  )"
   ]
  },
  {
   "cell_type": "code",
   "execution_count": null,
   "metadata": {
    "id": "XSDYqpKZgOBw"
   },
   "outputs": [],
   "source": [
    "# Model checkpoint callback\n",
    "cp_callback = tf.keras.callbacks.ModelCheckpoint(\n",
    "    model_save_path, verbose=1, save_weights_only=False, save_best_only=True)\n",
    "# Callback for early stopping\n",
    "es_callback = tf.keras.callbacks.EarlyStopping(patience=15, verbose=1)"
   ]
  },
  {
   "cell_type": "code",
   "execution_count": null,
   "metadata": {
    "id": "8ssEmXpJcxSp"
   },
   "outputs": [],
   "source": [
    "def train_test_model(hparams):\n",
    "\n",
    "  model = tf.keras.models.Sequential([\n",
    "    tf.keras.layers.Input((21 * 2, )),\n",
    "    tf.keras.layers.Dropout(hparams[HP_DROPOUT]),\n",
    "    tf.keras.layers.Dense(hparams[HP_NUM_UNITS_1], activation='relu'),\n",
    "    tf.keras.layers.Dropout(hparams[HP_DROPOUT]),\n",
    "    tf.keras.layers.Dense(hparams[HP_NUM_UNITS_2], activation='relu'),\n",
    "    tf.keras.layers.Dropout(hparams[HP_DROPOUT]),\n",
    "    tf.keras.layers.Dense(hparams[HP_NUM_UNITS_3], activation='relu'),\n",
    "    tf.keras.layers.Dense(NUM_CLASSES, activation='softmax')\n",
    "])\n",
    "  \n",
    "  model.compile(\n",
    "    optimizer=hparams[HP_OPTIMIZER],\n",
    "    loss='sparse_categorical_crossentropy',\n",
    "    metrics=['accuracy']\n",
    ")\n",
    "  \n",
    "  cp_callback = tf.keras.callbacks.ModelCheckpoint(\n",
    "    model_save_path, verbose=1, save_weights_only=False, save_best_only=True)\n",
    "\n",
    "  model.fit(\n",
    "    X_train,\n",
    "    y_train,\n",
    "    epochs=50,\n",
    "    batch_size=64,\n",
    "    validation_data=(X_test, y_test),\n",
    "    callbacks=[\n",
    "               cp_callback,\n",
    "               es_callback,\n",
    "               ]\n",
    "  ) \n",
    "\n",
    "  # Load model with best accuracy\n",
    "  model = tf.keras.models.load_model(model_save_path)\n",
    "\n",
    "  _, accuracy = model.evaluate(X_test, y_test)\n",
    "  return accuracy\n",
    "\n",
    "def run(run_dir, hparams):\n",
    "  with tf.summary.create_file_writer(run_dir).as_default():\n",
    "    hp.hparams(hparams)  # record the values used in this trial\n",
    "    accuracy = train_test_model(hparams)\n",
    "    tf.summary.scalar(METRIC_ACCURACY, accuracy, step=1)"
   ]
  },
  {
   "cell_type": "code",
   "execution_count": null,
   "metadata": {
    "id": "5pO9W84DdHVL"
   },
   "outputs": [],
   "source": [
    "session_num = 0\n",
    "\n",
    "for num_units_1 in HP_NUM_UNITS_1.domain.values:\n",
    "  for num_units_2 in HP_NUM_UNITS_2.domain.values:\n",
    "    for num_units_3 in HP_NUM_UNITS_3.domain.values:\n",
    "      for dropout_rate in np.arange(HP_DROPOUT.domain.min_value, HP_DROPOUT.domain.max_value, 0.1):\n",
    "        for optimizer in HP_OPTIMIZER.domain.values:\n",
    "          hparams = {\n",
    "              HP_NUM_UNITS_1: num_units_1,\n",
    "              HP_NUM_UNITS_2: num_units_2,\n",
    "              HP_NUM_UNITS_3: num_units_3,\n",
    "              HP_DROPOUT: dropout_rate,\n",
    "              HP_OPTIMIZER: optimizer,\n",
    "          }\n",
    "          run_name = \"run-%d\" % session_num\n",
    "          print('--- Starting trial: %s' % run_name)\n",
    "          print({h.name: hparams[h] for h in hparams})\n",
    "          run('logs/hparam_tuning/' + run_name, hparams)\n",
    "          session_num += 1"
   ]
  },
  {
   "cell_type": "code",
   "execution_count": null,
   "metadata": {
    "id": "21knbMYldaUn"
   },
   "outputs": [],
   "source": [
    "# !ATTENTION! Works only in Colab\n",
    "%tensorboard --logdir logs/hparam_tuning"
   ]
  },
  {
   "cell_type": "code",
   "execution_count": null,
   "metadata": {
    "id": "J6_UH6jttBsD"
   },
   "outputs": [],
   "source": [
    "!rm -rf logs"
   ]
  }
 ],
 "metadata": {
  "accelerator": "GPU",
  "colab": {
   "collapsed_sections": [],
   "name": "Keypoint_model_training.ipynb",
   "provenance": [],
   "toc_visible": true
  },
  "kernelspec": {
   "display_name": "Python 3 (ipykernel)",
   "language": "python",
   "name": "python3"
  },
  "language_info": {
   "codemirror_mode": {
    "name": "ipython",
    "version": 3
   },
   "file_extension": ".py",
   "mimetype": "text/x-python",
   "name": "python",
   "nbconvert_exporter": "python",
   "pygments_lexer": "ipython3",
   "version": "3.11.6"
  }
 },
 "nbformat": 4,
 "nbformat_minor": 4
}
